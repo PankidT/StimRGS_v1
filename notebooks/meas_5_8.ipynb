{
 "cells": [
  {
   "cell_type": "code",
   "execution_count": 1,
   "metadata": {},
   "outputs": [],
   "source": [
    "import stim\n",
    "# from stimrgs_v1.utils import *\n",
    "import stimrgs_v1 as pan_lib\n",
    "# from stimrgs_v1.stabilizer_operations import *\n",
    "from tqdm import tqdm\n",
    "import itertools"
   ]
  },
  {
   "cell_type": "code",
   "execution_count": null,
   "metadata": {},
   "outputs": [
    {
     "name": "stderr",
     "output_type": "stream",
     "text": [
      "100%|██████████| 5/5 [00:01<00:00,  4.16it/s]"
     ]
    },
    {
     "name": "stdout",
     "output_type": "stream",
     "text": [
      "Max found bells 3: 0\n"
     ]
    },
    {
     "name": "stderr",
     "output_type": "stream",
     "text": [
      "\n"
     ]
    }
   ],
   "source": [
    "# Configuration parameters\n",
    "num_trial = 5\n",
    "num_nodes = 12\n",
    "num_bell_between_row = [i + 2 for i in range(num_nodes // 4 - 1)]\n",
    "num_bell_between_row = [3]\n",
    "\n",
    "stabilizers_results = []\n",
    "stabilizers_results = pan_lib.stabilizer_operations.find_stabilizers_result(\n",
    "    num_nodes=num_nodes\n",
    ")\n",
    "\n",
    "for num_bell in num_bell_between_row:\n",
    "\n",
    "    # Reset max_found_bells every time we change num_bell_between_row\n",
    "    max_found_bells = 0\n",
    "\n",
    "    for trial in tqdm(range(num_trial)):\n",
    "\n",
    "        # for num_measurements in tqdm(range(5, num_nodes - 3)):\n",
    "        # for num_measurements in [4, 5, 6, 7, 8]:\n",
    "        for num_measurements in range(1, 13):\n",
    "\n",
    "            # num_measurements = 16\n",
    "\n",
    "            combinations = itertools.combinations(range(num_nodes), r=num_measurements)\n",
    "\n",
    "            for c in combinations:\n",
    "                # Restart parameters before operate new measurement set\n",
    "                found: bool = False\n",
    "                bell_found_list = []\n",
    "\n",
    "                q, circuit = pan_lib.stabilizer_operations.generate_rgs_random(\n",
    "                    num_nodes=num_nodes, num_bell_between_row=num_bell\n",
    "                )\n",
    "                s = stim.TableauSimulator()\n",
    "                s.do_circuit(stim.Circuit(circuit))\n",
    "\n",
    "                # Operate measurement\n",
    "                for index in c:\n",
    "                    # Update s, q\n",
    "                    s, q = pan_lib.stabilizer_operations.measure_z_with_correction(\n",
    "                        index=index, s=s, queries=q\n",
    "                    )\n",
    "\n",
    "                # Check if result match one of all possible results\n",
    "                for result in stabilizers_results:\n",
    "                    if pan_lib.stabilizer_operations.is_subset(result, q):\n",
    "                        # print(f\"Found solution: {result}\")\n",
    "                        bell_found_list.append(result)\n",
    "                        found = True\n",
    "\n",
    "                # if q in stabilizers_results:\n",
    "                #     print(f\"Found solution: {q}\")\n",
    "                #     bell_found_list.append(q)\n",
    "                #     found = True\n",
    "                \n",
    "                # for bell_pair in stabilizers_results:\n",
    "                #     if bell_pair in q:\n",
    "                #         ...\n",
    "\n",
    "                # Update when found new high\n",
    "                if len(bell_found_list) >= max_found_bells:\n",
    "                    max_found_bells = len(bell_found_list)\n",
    "\n",
    "    print(f\"Max found bells {num_bell}: {max_found_bells}\")"
   ]
  },
  {
   "cell_type": "code",
   "execution_count": 41,
   "metadata": {},
   "outputs": [
    {
     "data": {
      "text/plain": [
       "['X____Z______',\n",
       " '_Z__________',\n",
       " '__XZ________',\n",
       " '__ZX__Z_____',\n",
       " '____Z_______',\n",
       " 'Z____X__Z___',\n",
       " '___Z__X____Z',\n",
       " '_______Z____',\n",
       " '_____Z__XZ__',\n",
       " '________ZX__',\n",
       " '__________Z_',\n",
       " '______Z____X']"
      ]
     },
     "execution_count": 41,
     "metadata": {},
     "output_type": "execute_result"
    }
   ],
   "source": [
    "q"
   ]
  },
  {
   "cell_type": "code",
   "execution_count": 17,
   "metadata": {},
   "outputs": [
    {
     "data": {
      "text/plain": [
       "'H 0 1 2 3 4 5 6 7 8 9 10 11\\nCZ 0 3 0 4 0 5 1 5 1 3 1 4 2 4 2 3 2 5 3 6 4 7 5 8 6 11 6 10 6 9 7 10 7 9 7 11 8 11 8 9 8 10'"
      ]
     },
     "execution_count": 17,
     "metadata": {},
     "output_type": "execute_result"
    }
   ],
   "source": [
    "circuit"
   ]
  },
  {
   "cell_type": "code",
   "execution_count": 48,
   "metadata": {},
   "outputs": [],
   "source": [
    "q, circuit = pan_lib.stabilizer_operations.generate_rgs_random(\n",
    "    num_nodes=num_nodes, num_bell_between_row=num_bell\n",
    ")"
   ]
  },
  {
   "cell_type": "code",
   "execution_count": null,
   "metadata": {},
   "outputs": [
    {
     "data": {
      "text/plain": [
       "['X__ZZZ______',\n",
       " '_X_ZZZ______',\n",
       " '__XZZZ______',\n",
       " 'ZZZX__Z_____',\n",
       " 'ZZZ_X__Z____',\n",
       " 'ZZZ__X__Z___',\n",
       " '___Z__X__ZZZ',\n",
       " '____Z__X_ZZZ',\n",
       " '_____Z__XZZZ',\n",
       " '______ZZZX__',\n",
       " '______ZZZ_X_',\n",
       " '______ZZZ__X']"
      ]
     },
     "execution_count": 51,
     "metadata": {},
     "output_type": "execute_result"
    }
   ],
   "source": []
  },
  {
   "cell_type": "code",
   "execution_count": null,
   "metadata": {},
   "outputs": [
    {
     "data": {
      "text/plain": [
       "True"
      ]
     },
     "execution_count": 8,
     "metadata": {},
     "output_type": "execute_result"
    }
   ],
   "source": [
    "[\n",
    "    \"X____Z______________\",\n",
    "    \"Z____X____Z_________\",\n",
    "    \"_____Z____X____Z____\",\n",
    "    \"__________Z____X____\",\n",
    "] in stabilizers_results"
   ]
  },
  {
   "cell_type": "code",
   "execution_count": null,
   "metadata": {},
   "outputs": [],
   "source": []
  },
  {
   "cell_type": "code",
   "execution_count": 10,
   "metadata": {},
   "outputs": [
    {
     "data": {
      "text/plain": [
       "625"
      ]
     },
     "execution_count": 10,
     "metadata": {},
     "output_type": "execute_result"
    }
   ],
   "source": [
    "len(stabilizers_results)"
   ]
  },
  {
   "cell_type": "code",
   "execution_count": 31,
   "metadata": {},
   "outputs": [
    {
     "data": {
      "text/plain": [
       "False"
      ]
     },
     "execution_count": 31,
     "metadata": {},
     "output_type": "execute_result"
    }
   ],
   "source": [
    "['cat', 'dog'] == ['cat', 'dog', 'fish']"
   ]
  },
  {
   "cell_type": "code",
   "execution_count": 34,
   "metadata": {},
   "outputs": [
    {
     "data": {
      "text/plain": [
       "True"
      ]
     },
     "execution_count": 34,
     "metadata": {},
     "output_type": "execute_result"
    }
   ],
   "source": [
    "['cat', 'dog'] in [['cat', 'dog', 'fish'], ['cat', 'dog']]"
   ]
  },
  {
   "cell_type": "code",
   "execution_count": null,
   "metadata": {},
   "outputs": [],
   "source": [
    "q = [\n",
    "    \"X___ZZ______\",  # node 0\n",
    "    \"_X_Z_Z______\",  # node 1\n",
    "    \"__XZZ_______\",  # node 2\n",
    "    \"_ZZX__Z_____\",  # node 3\n",
    "    \"Z_Z_X__Z____\",  # node 4\n",
    "    \"ZZ___X__Z___\",  # node 5\n",
    "    \"___Z__X___ZZ\",  # node 6\n",
    "    \"____Z__X_Z_Z\",  # node 7\n",
    "    \"_____Z__XZZ_\",  # node 8\n",
    "    \"_______ZZX__\",  # node 9\n",
    "    \"______Z_Z_X_\",  # node 10\n",
    "    \"______ZZ___X\",  # node 11\n",
    "]\n",
    "circuit = \"\"\"\n",
    "    H 0 1 2 3 4 5 6 7 8 9 10 11\n",
    "    CZ 0 4 0 5 1 3 1 5 2 3 2 4 6 10 6 11 7 9 7 11 8 9 8 10 3 6 4 7 5 8    \n",
    "\"\"\"\n",
    "\n",
    "c = (1, 4, 7, 10)\n",
    "\n",
    "s = stim.TableauSimulator()\n",
    "s.do_circuit(stim.Circuit(circuit))\n",
    "\n",
    "for index in c:\n",
    "    # Update s, q\n",
    "    s, q = pan_lib.stabilizer_operations.measure_z_with_correction(\n",
    "        index=index, s=s, queries=q\n",
    "    )"
   ]
  },
  {
   "cell_type": "code",
   "execution_count": 47,
   "metadata": {},
   "outputs": [
    {
     "data": {
      "text/plain": [
       "(1, 4, 7, 10)"
      ]
     },
     "execution_count": 47,
     "metadata": {},
     "output_type": "execute_result"
    }
   ],
   "source": [
    "c"
   ]
  },
  {
   "cell_type": "code",
   "execution_count": null,
   "metadata": {},
   "outputs": [
    {
     "data": {
      "text/plain": [
       "[stim.PauliString(\"+X_______XZ__\"),\n",
       " stim.PauliString(\"+Z____X___X__\"),\n",
       " stim.PauliString(\"+_Z__________\"),\n",
       " stim.PauliString(\"+__X___X____Z\"),\n",
       " stim.PauliString(\"+__ZX_______X\"),\n",
       " stim.PauliString(\"+___Z__X____Z\"),\n",
       " stim.PauliString(\"+____Z_______\"),\n",
       " stim.PauliString(\"+_____Z__XZ__\"),\n",
       " stim.PauliString(\"+______Z____X\"),\n",
       " stim.PauliString(\"+_______Z____\"),\n",
       " stim.PauliString(\"+________ZX__\"),\n",
       " stim.PauliString(\"+__________Z_\")]"
      ]
     },
     "execution_count": 45,
     "metadata": {},
     "output_type": "execute_result"
    }
   ],
   "source": [
    "s.canonical_stabilizers()"
   ]
  },
  {
   "cell_type": "code",
   "execution_count": 46,
   "metadata": {},
   "outputs": [
    {
     "data": {
      "text/plain": [
       "['X____Z______',\n",
       " '_Z__________',\n",
       " '__XZ________',\n",
       " '__ZX__Z_____',\n",
       " '____Z_______',\n",
       " 'Z____X__Z___',\n",
       " '___Z__X____Z',\n",
       " '_______Z____',\n",
       " '_____Z__XZ__',\n",
       " '________ZX__',\n",
       " '__________Z_',\n",
       " '______Z____X']"
      ]
     },
     "execution_count": 46,
     "metadata": {},
     "output_type": "execute_result"
    }
   ],
   "source": [
    "q"
   ]
  },
  {
   "cell_type": "code",
   "execution_count": null,
   "metadata": {},
   "outputs": [
    {
     "ename": "ValueError",
     "evalue": "The truth value of an array with more than one element is ambiguous. Use a.any() or a.all()",
     "output_type": "error",
     "traceback": [
      "\u001b[0;31m---------------------------------------------------------------------------\u001b[0m",
      "\u001b[0;31mValueError\u001b[0m                                Traceback (most recent call last)",
      "Cell \u001b[0;32mIn[36], line 2\u001b[0m\n\u001b[1;32m      1\u001b[0m \u001b[38;5;66;03m# np.array(q)[[0, 5, 8, 9]]\u001b[39;00m\n\u001b[0;32m----> 2\u001b[0m \u001b[43mnp\u001b[49m\u001b[38;5;241;43m.\u001b[39;49m\u001b[43marray\u001b[49m\u001b[43m(\u001b[49m\u001b[43mq\u001b[49m\u001b[43m)\u001b[49m\u001b[43m[\u001b[49m\u001b[43m[\u001b[49m\u001b[38;5;241;43m2\u001b[39;49m\u001b[43m,\u001b[49m\u001b[43m \u001b[49m\u001b[38;5;241;43m3\u001b[39;49m\u001b[43m,\u001b[49m\u001b[43m \u001b[49m\u001b[38;5;241;43m6\u001b[39;49m\u001b[43m,\u001b[49m\u001b[43m \u001b[49m\u001b[38;5;241;43m11\u001b[39;49m\u001b[43m]\u001b[49m\u001b[43m]\u001b[49m\u001b[43m \u001b[49m\u001b[38;5;129;43;01min\u001b[39;49;00m\u001b[43m \u001b[49m\u001b[43mq\u001b[49m\n",
      "\u001b[0;31mValueError\u001b[0m: The truth value of an array with more than one element is ambiguous. Use a.any() or a.all()"
     ]
    }
   ],
   "source": [
    "# np.array(q)[[0, 5, 8, 9]]\n",
    "np.array(q)[[2, 3, 6, 11]]"
   ]
  },
  {
   "cell_type": "code",
   "execution_count": null,
   "metadata": {},
   "outputs": [],
   "source": []
  },
  {
   "cell_type": "code",
   "execution_count": 26,
   "metadata": {},
   "outputs": [
    {
     "data": {
      "text/plain": [
       "[['X__Z________', 'Z__X__Z_____', '___Z__X__Z__', '______Z__X__'],\n",
       " ['X__Z________', 'Z__X__Z_____', '___Z__X___Z_', '______Z___X_'],\n",
       " ['X__Z________', 'Z__X__Z_____', '___Z__X____Z', '______Z____X'],\n",
       " ['X__Z________', 'Z__X___Z____', '___Z___X_Z__', '_______Z_X__'],\n",
       " ['X__Z________', 'Z__X___Z____', '___Z___X__Z_', '_______Z__X_'],\n",
       " ['X__Z________', 'Z__X___Z____', '___Z___X___Z', '_______Z___X'],\n",
       " ['X__Z________', 'Z__X____Z___', '___Z____XZ__', '________ZX__'],\n",
       " ['X__Z________', 'Z__X____Z___', '___Z____X_Z_', '________Z_X_'],\n",
       " ['X__Z________', 'Z__X____Z___', '___Z____X__Z', '________Z__X'],\n",
       " ['X___Z_______', 'Z___X_Z_____', '____Z_X__Z__', '______Z__X__'],\n",
       " ['X___Z_______', 'Z___X_Z_____', '____Z_X___Z_', '______Z___X_'],\n",
       " ['X___Z_______', 'Z___X_Z_____', '____Z_X____Z', '______Z____X'],\n",
       " ['X___Z_______', 'Z___X__Z____', '____Z__X_Z__', '_______Z_X__'],\n",
       " ['X___Z_______', 'Z___X__Z____', '____Z__X__Z_', '_______Z__X_'],\n",
       " ['X___Z_______', 'Z___X__Z____', '____Z__X___Z', '_______Z___X'],\n",
       " ['X___Z_______', 'Z___X___Z___', '____Z___XZ__', '________ZX__'],\n",
       " ['X___Z_______', 'Z___X___Z___', '____Z___X_Z_', '________Z_X_'],\n",
       " ['X___Z_______', 'Z___X___Z___', '____Z___X__Z', '________Z__X'],\n",
       " ['X____Z______', 'Z____XZ_____', '_____ZX__Z__', '______Z__X__'],\n",
       " ['X____Z______', 'Z____XZ_____', '_____ZX___Z_', '______Z___X_'],\n",
       " ['X____Z______', 'Z____XZ_____', '_____ZX____Z', '______Z____X'],\n",
       " ['X____Z______', 'Z____X_Z____', '_____Z_X_Z__', '_______Z_X__'],\n",
       " ['X____Z______', 'Z____X_Z____', '_____Z_X__Z_', '_______Z__X_'],\n",
       " ['X____Z______', 'Z____X_Z____', '_____Z_X___Z', '_______Z___X'],\n",
       " ['X____Z______', 'Z____X__Z___', '_____Z__XZ__', '________ZX__'],\n",
       " ['X____Z______', 'Z____X__Z___', '_____Z__X_Z_', '________Z_X_'],\n",
       " ['X____Z______', 'Z____X__Z___', '_____Z__X__Z', '________Z__X'],\n",
       " ['_X_Z________', '_Z_X__Z_____', '___Z__X__Z__', '______Z__X__'],\n",
       " ['_X_Z________', '_Z_X__Z_____', '___Z__X___Z_', '______Z___X_'],\n",
       " ['_X_Z________', '_Z_X__Z_____', '___Z__X____Z', '______Z____X'],\n",
       " ['_X_Z________', '_Z_X___Z____', '___Z___X_Z__', '_______Z_X__'],\n",
       " ['_X_Z________', '_Z_X___Z____', '___Z___X__Z_', '_______Z__X_'],\n",
       " ['_X_Z________', '_Z_X___Z____', '___Z___X___Z', '_______Z___X'],\n",
       " ['_X_Z________', '_Z_X____Z___', '___Z____XZ__', '________ZX__'],\n",
       " ['_X_Z________', '_Z_X____Z___', '___Z____X_Z_', '________Z_X_'],\n",
       " ['_X_Z________', '_Z_X____Z___', '___Z____X__Z', '________Z__X'],\n",
       " ['_X__Z_______', '_Z__X_Z_____', '____Z_X__Z__', '______Z__X__'],\n",
       " ['_X__Z_______', '_Z__X_Z_____', '____Z_X___Z_', '______Z___X_'],\n",
       " ['_X__Z_______', '_Z__X_Z_____', '____Z_X____Z', '______Z____X'],\n",
       " ['_X__Z_______', '_Z__X__Z____', '____Z__X_Z__', '_______Z_X__'],\n",
       " ['_X__Z_______', '_Z__X__Z____', '____Z__X__Z_', '_______Z__X_'],\n",
       " ['_X__Z_______', '_Z__X__Z____', '____Z__X___Z', '_______Z___X'],\n",
       " ['_X__Z_______', '_Z__X___Z___', '____Z___XZ__', '________ZX__'],\n",
       " ['_X__Z_______', '_Z__X___Z___', '____Z___X_Z_', '________Z_X_'],\n",
       " ['_X__Z_______', '_Z__X___Z___', '____Z___X__Z', '________Z__X'],\n",
       " ['_X___Z______', '_Z___XZ_____', '_____ZX__Z__', '______Z__X__'],\n",
       " ['_X___Z______', '_Z___XZ_____', '_____ZX___Z_', '______Z___X_'],\n",
       " ['_X___Z______', '_Z___XZ_____', '_____ZX____Z', '______Z____X'],\n",
       " ['_X___Z______', '_Z___X_Z____', '_____Z_X_Z__', '_______Z_X__'],\n",
       " ['_X___Z______', '_Z___X_Z____', '_____Z_X__Z_', '_______Z__X_'],\n",
       " ['_X___Z______', '_Z___X_Z____', '_____Z_X___Z', '_______Z___X'],\n",
       " ['_X___Z______', '_Z___X__Z___', '_____Z__XZ__', '________ZX__'],\n",
       " ['_X___Z______', '_Z___X__Z___', '_____Z__X_Z_', '________Z_X_'],\n",
       " ['_X___Z______', '_Z___X__Z___', '_____Z__X__Z', '________Z__X'],\n",
       " ['__XZ________', '__ZX__Z_____', '___Z__X__Z__', '______Z__X__'],\n",
       " ['__XZ________', '__ZX__Z_____', '___Z__X___Z_', '______Z___X_'],\n",
       " ['__XZ________', '__ZX__Z_____', '___Z__X____Z', '______Z____X'],\n",
       " ['__XZ________', '__ZX___Z____', '___Z___X_Z__', '_______Z_X__'],\n",
       " ['__XZ________', '__ZX___Z____', '___Z___X__Z_', '_______Z__X_'],\n",
       " ['__XZ________', '__ZX___Z____', '___Z___X___Z', '_______Z___X'],\n",
       " ['__XZ________', '__ZX____Z___', '___Z____XZ__', '________ZX__'],\n",
       " ['__XZ________', '__ZX____Z___', '___Z____X_Z_', '________Z_X_'],\n",
       " ['__XZ________', '__ZX____Z___', '___Z____X__Z', '________Z__X'],\n",
       " ['__X_Z_______', '__Z_X_Z_____', '____Z_X__Z__', '______Z__X__'],\n",
       " ['__X_Z_______', '__Z_X_Z_____', '____Z_X___Z_', '______Z___X_'],\n",
       " ['__X_Z_______', '__Z_X_Z_____', '____Z_X____Z', '______Z____X'],\n",
       " ['__X_Z_______', '__Z_X__Z____', '____Z__X_Z__', '_______Z_X__'],\n",
       " ['__X_Z_______', '__Z_X__Z____', '____Z__X__Z_', '_______Z__X_'],\n",
       " ['__X_Z_______', '__Z_X__Z____', '____Z__X___Z', '_______Z___X'],\n",
       " ['__X_Z_______', '__Z_X___Z___', '____Z___XZ__', '________ZX__'],\n",
       " ['__X_Z_______', '__Z_X___Z___', '____Z___X_Z_', '________Z_X_'],\n",
       " ['__X_Z_______', '__Z_X___Z___', '____Z___X__Z', '________Z__X'],\n",
       " ['__X__Z______', '__Z__XZ_____', '_____ZX__Z__', '______Z__X__'],\n",
       " ['__X__Z______', '__Z__XZ_____', '_____ZX___Z_', '______Z___X_'],\n",
       " ['__X__Z______', '__Z__XZ_____', '_____ZX____Z', '______Z____X'],\n",
       " ['__X__Z______', '__Z__X_Z____', '_____Z_X_Z__', '_______Z_X__'],\n",
       " ['__X__Z______', '__Z__X_Z____', '_____Z_X__Z_', '_______Z__X_'],\n",
       " ['__X__Z______', '__Z__X_Z____', '_____Z_X___Z', '_______Z___X'],\n",
       " ['__X__Z______', '__Z__X__Z___', '_____Z__XZ__', '________ZX__'],\n",
       " ['__X__Z______', '__Z__X__Z___', '_____Z__X_Z_', '________Z_X_'],\n",
       " ['__X__Z______', '__Z__X__Z___', '_____Z__X__Z', '________Z__X']]"
      ]
     },
     "execution_count": 26,
     "metadata": {},
     "output_type": "execute_result"
    }
   ],
   "source": [
    "stabilizers_results"
   ]
  }
 ],
 "metadata": {
  "kernelspec": {
   "display_name": ".venv",
   "language": "python",
   "name": "python3"
  },
  "language_info": {
   "codemirror_mode": {
    "name": "ipython",
    "version": 3
   },
   "file_extension": ".py",
   "mimetype": "text/x-python",
   "name": "python",
   "nbconvert_exporter": "python",
   "pygments_lexer": "ipython3",
   "version": "3.9.17"
  }
 },
 "nbformat": 4,
 "nbformat_minor": 2
}
