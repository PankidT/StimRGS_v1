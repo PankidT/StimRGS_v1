{
 "cells": [
  {
   "cell_type": "code",
   "execution_count": 1,
   "metadata": {},
   "outputs": [],
   "source": [
    "# import numpy as np\n",
    "import jax\n",
    "import jax.numpy as jnp\n",
    "import itertools\n",
    "import stim"
   ]
  },
  {
   "cell_type": "code",
   "execution_count": 2,
   "metadata": {},
   "outputs": [
    {
     "name": "stdout",
     "output_type": "stream",
     "text": [
      "\n",
      "H 0 1 2 3 4 5 6 7 8 9 10 11\n",
      "CZ 0 4 0 5 1 3 1 5 2 3 2 4 6 10 6 11 7 9 7 11 8 9 8 10 3 6 4 7 5 8    \n",
      "\n"
     ]
    }
   ],
   "source": [
    "circuit = \"\"\"\n",
    "H 0 1 2 3 4 5 6 7 8 9 10 11\\nCZ 0 4 0 5 1 3 1 5 2 3 2 4 6 10 6 11 7 9 7 11 8 9 8 10 3 6 4 7 5 8    \n",
    "\"\"\"\n",
    "\n",
    "print(circuit)"
   ]
  },
  {
   "cell_type": "code",
   "execution_count": 3,
   "metadata": {},
   "outputs": [],
   "source": [
    "key = jax.random.key(0)"
   ]
  },
  {
   "cell_type": "code",
   "execution_count": 4,
   "metadata": {},
   "outputs": [],
   "source": [
    "def generate_random_rgs(key: jnp.ndarray, num_rows: int, num_cols: int):\n",
    "    nodes = jnp.arange(num_rows * num_cols).reshape((num_rows, num_cols))\n",
    "    nodes = nodes.tolist()\n",
    "    is_connected = jax.random.bernoulli(key, shape=(int(num_rows**2) * (num_cols - 1),))\n",
    "    edges = itertools.chain(\n",
    "        *[itertools.product(nodes[i], nodes[i + 1]) for i in range(num_rows - 1)]\n",
    "    )\n",
    "\n",
    "    circuit = \"H \" + \" \".join([str(i) for i in range(int(num_cols * num_rows))]) + '\\nCZ '\n",
    "\n",
    "    circuit += ' '.join([ f'{i} {j}' for is_c, (i, j) in zip(is_connected, edges) if is_c])\n",
    "\n",
    "    return circuit\n",
    "\n",
    "def generate_random_rgs_v2(key: jnp.ndarray, num_rows: int, num_cols: int):\n",
    "    nodes = jnp.arange(num_rows * num_cols).reshape((num_rows, num_cols))\n",
    "    nodes = nodes.tolist()\n",
    "    is_connected = jax.random.bernoulli(key, shape=(int(num_cols ** 2) * 2,))\n",
    "\n",
    "    edges = itertools.chain(\n",
    "        *[itertools.product(nodes[i], nodes[i + 1]) for i in [0, num_rows - 2]]\n",
    "    )\n",
    "\n",
    "    circuit = \"H \" + \" \".join([str(i) for i in range(int(num_cols * num_rows))]) + '\\nCZ '\n",
    "    circuit += ' '.join([ f'{i} {j}' for is_c, (i, j) in zip(is_connected, edges) if is_c])\n",
    "    circuit += ' ' + '3 6 4 7 5 8'\n",
    "\n",
    "    return circuit\n",
    "\n",
    "def gen_all_bell():\n",
    "\n",
    "    stabilzers = []\n",
    "    for i, j in itertools.product(range(0, 3), range(9, 12)):\n",
    "        stab = [\"_\"] * 12\n",
    "        stab[i] = 'X'\n",
    "        stab[j] = 'Z'\n",
    "        stabilzers.append(\"+\" + \"\".join(stab))\n",
    "\n",
    "        stab = [\"_\"] * 12\n",
    "        stab[j] = 'X'\n",
    "        stab[i] = 'Z'\n",
    "        stabilzers.append(\"+\" + \"\".join(stab))\n",
    "\n",
    "    return stabilzers"
   ]
  },
  {
   "cell_type": "code",
   "execution_count": 5,
   "metadata": {},
   "outputs": [],
   "source": [
    "all_bell_stabs = gen_all_bell()"
   ]
  },
  {
   "cell_type": "code",
   "execution_count": 6,
   "metadata": {},
   "outputs": [
    {
     "data": {
      "text/plain": [
       "['+X________Z__',\n",
       " '+Z________X__',\n",
       " '+X_________Z_',\n",
       " '+Z_________X_',\n",
       " '+X__________Z',\n",
       " '+Z__________X',\n",
       " '+_X_______Z__',\n",
       " '+_Z_______X__',\n",
       " '+_X________Z_',\n",
       " '+_Z________X_',\n",
       " '+_X_________Z',\n",
       " '+_Z_________X',\n",
       " '+__X______Z__',\n",
       " '+__Z______X__',\n",
       " '+__X_______Z_',\n",
       " '+__Z_______X_',\n",
       " '+__X________Z',\n",
       " '+__Z________X']"
      ]
     },
     "execution_count": 6,
     "metadata": {},
     "output_type": "execute_result"
    }
   ],
   "source": [
    "all_bell_stabs"
   ]
  },
  {
   "cell_type": "code",
   "execution_count": 20,
   "metadata": {},
   "outputs": [
    {
     "data": {
      "text/plain": [
       "1515.0"
      ]
     },
     "execution_count": 20,
     "metadata": {},
     "output_type": "execute_result"
    }
   ],
   "source": [
    "count = 0\n",
    "for idx in range(2000):\n",
    "    key, graph_key, meas_1_key, meas_2_key = jax.random.split(key, 4)\n",
    "    circuit = generate_random_rgs_v2(graph_key, 4, 3)\n",
    "\n",
    "    s = stim.TableauSimulator()\n",
    "    s.do(stim.Circuit(circuit))\n",
    "\n",
    "    for i in range(3, 9):\n",
    "        s.postselect_x(i, desired_value=False)\n",
    "\n",
    "    node_1 = jax.random.choice(meas_1_key, jnp.array([0, 1, 2]))\n",
    "    node_2 = jax.random.choice(meas_1_key, jnp.array([9, 10, 11]))\n",
    "    for i in [node_1, node_2]:\n",
    "        s.postselect_z(i, desired_value=False)\n",
    "\n",
    "    r = s.canonical_stabilizers()\n",
    "    set_r = set(map(str, filter(lambda x: x.weight == 2, r)))\n",
    "\n",
    "    is_contained_bell_pair = set_r.issubset(\n",
    "        set(all_bell_stabs)\n",
    "    )\n",
    "\n",
    "    if is_contained_bell_pair:\n",
    "        count += len(set_r) / 2\n",
    "\n",
    "count"
   ]
  },
  {
   "cell_type": "code",
   "execution_count": 19,
   "metadata": {},
   "outputs": [
    {
     "data": {
      "text/plain": [
       "['+X________Z__',\n",
       " '+Z________X__',\n",
       " '+X_________Z_',\n",
       " '+Z_________X_',\n",
       " '+X__________Z',\n",
       " '+Z__________X',\n",
       " '+_X_______Z__',\n",
       " '+_Z_______X__',\n",
       " '+_X________Z_',\n",
       " '+_Z________X_',\n",
       " '+_X_________Z',\n",
       " '+_Z_________X',\n",
       " '+__X______Z__',\n",
       " '+__Z______X__',\n",
       " '+__X_______Z_',\n",
       " '+__Z_______X_',\n",
       " '+__X________Z',\n",
       " '+__Z________X']"
      ]
     },
     "execution_count": 19,
     "metadata": {},
     "output_type": "execute_result"
    }
   ],
   "source": [
    "all_bell_stabs"
   ]
  },
  {
   "cell_type": "code",
   "execution_count": 17,
   "metadata": {},
   "outputs": [
    {
     "data": {
      "text/plain": [
       "{'+__X_______Z_', '+__Z_______X_'}"
      ]
     },
     "execution_count": 17,
     "metadata": {},
     "output_type": "execute_result"
    }
   ],
   "source": [
    "set_r"
   ]
  },
  {
   "cell_type": "code",
   "execution_count": 174,
   "metadata": {},
   "outputs": [
    {
     "data": {
      "text/plain": [
       "[stim.PauliString(\"+X__________Z\"),\n",
       " stim.PauliString(\"+Z__________X\"),\n",
       " stim.PauliString(\"+_Z__________\"),\n",
       " stim.PauliString(\"+__X_________\"),\n",
       " stim.PauliString(\"+___X________\"),\n",
       " stim.PauliString(\"+____X_______\"),\n",
       " stim.PauliString(\"+_____X______\"),\n",
       " stim.PauliString(\"+______X_____\"),\n",
       " stim.PauliString(\"+_______X____\"),\n",
       " stim.PauliString(\"+________X___\"),\n",
       " stim.PauliString(\"+_________X__\"),\n",
       " stim.PauliString(\"+__________Z_\")]"
      ]
     },
     "execution_count": 174,
     "metadata": {},
     "output_type": "execute_result"
    }
   ],
   "source": [
    "key, subkey = jax.random.split(key)\n",
    "circuit = generate_random_rgs(key, 4, 3)\n",
    "\n",
    "s = stim.TableauSimulator()\n",
    "s.do(stim.Circuit(circuit))\n",
    "\n",
    "s.canonical_stabilizers()\n",
    "\n",
    "for i in range(3, 9):\n",
    "    s.postselect_x(i, desired_value=False)\n",
    "\n",
    "for i in [1, 10]:\n",
    "    s.postselect_z(i, desired_value=False)\n",
    "\n",
    "r = s.canonical_stabilizers()\n",
    "r"
   ]
  },
  {
   "cell_type": "code",
   "execution_count": null,
   "metadata": {},
   "outputs": [
    {
     "ename": "TypeError",
     "evalue": "peek_observable_expectation(): incompatible function arguments. The following argument types are supported:\n    1. (self: stim._stim_polyfill.TableauSimulator, observable: stim._stim_polyfill.PauliString) -> int\n\nInvoked with: <stim._stim_polyfill.TableauSimulator object at 0x11ff365f0>, 'XX'",
     "output_type": "error",
     "traceback": [
      "\u001b[0;31m---------------------------------------------------------------------------\u001b[0m",
      "\u001b[0;31mTypeError\u001b[0m                                 Traceback (most recent call last)",
      "Cell \u001b[0;32mIn[185], line 1\u001b[0m\n\u001b[0;32m----> 1\u001b[0m \u001b[43ms\u001b[49m\u001b[38;5;241;43m.\u001b[39;49m\u001b[43mpeek_observable_expectation\u001b[49m\u001b[43m(\u001b[49m\u001b[38;5;124;43m\"\u001b[39;49m\u001b[38;5;124;43mXX\u001b[39;49m\u001b[38;5;124;43m\"\u001b[39;49m\u001b[43m)\u001b[49m\n",
      "\u001b[0;31mTypeError\u001b[0m: peek_observable_expectation(): incompatible function arguments. The following argument types are supported:\n    1. (self: stim._stim_polyfill.TableauSimulator, observable: stim._stim_polyfill.PauliString) -> int\n\nInvoked with: <stim._stim_polyfill.TableauSimulator object at 0x11ff365f0>, 'XX'"
     ]
    }
   ],
   "source": []
  },
  {
   "cell_type": "code",
   "execution_count": 175,
   "metadata": {},
   "outputs": [
    {
     "data": {
      "text/plain": [
       "'H 0 1 2 3 4 5 6 7 8 9 10 11\\nCZ 0 4 1 3 1 4 1 5 2 3 2 4 3 6 3 8 4 6 4 7 4 8 5 8 7 11 8 9 8 10'"
      ]
     },
     "execution_count": 175,
     "metadata": {},
     "output_type": "execute_result"
    }
   ],
   "source": [
    "circuit"
   ]
  },
  {
   "cell_type": "code",
   "execution_count": 184,
   "metadata": {},
   "outputs": [
    {
     "data": {
      "text/plain": [
       "True"
      ]
     },
     "execution_count": 184,
     "metadata": {},
     "output_type": "execute_result"
    }
   ],
   "source": [
    "set(map(str ,filter(lambda x: x.weight == 2, r))).issubset(set(all_bell_stabs))"
   ]
  },
  {
   "cell_type": "code",
   "execution_count": 178,
   "metadata": {},
   "outputs": [
    {
     "data": {
      "text/plain": [
       "'+Z__________X'"
      ]
     },
     "execution_count": 178,
     "metadata": {},
     "output_type": "execute_result"
    }
   ],
   "source": [
    "str(r[1])"
   ]
  },
  {
   "cell_type": "code",
   "execution_count": 87,
   "metadata": {},
   "outputs": [
    {
     "data": {
      "text/plain": [
       "3"
      ]
     },
     "execution_count": 87,
     "metadata": {},
     "output_type": "execute_result"
    }
   ],
   "source": [
    "r[1].weight"
   ]
  },
  {
   "cell_type": "code",
   "execution_count": 89,
   "metadata": {},
   "outputs": [
    {
     "data": {
      "text/plain": [
       "[1, 10, 11]"
      ]
     },
     "execution_count": 89,
     "metadata": {},
     "output_type": "execute_result"
    }
   ],
   "source": [
    "r[1].pauli_indices()"
   ]
  },
  {
   "cell_type": "code",
   "execution_count": 147,
   "metadata": {},
   "outputs": [
    {
     "name": "stdout",
     "output_type": "stream",
     "text": [
      "X________Z__\n",
      "Z________X__\n",
      "X_________Z_\n",
      "Z_________X_\n",
      "X__________Z\n",
      "Z__________X\n",
      "_X_______Z__\n",
      "_Z_______X__\n",
      "_X________Z_\n",
      "_Z________X_\n",
      "_X_________Z\n",
      "_Z_________X\n",
      "__X______Z__\n",
      "__Z______X__\n",
      "__X_______Z_\n",
      "__Z_______X_\n",
      "__X________Z\n",
      "__Z________X\n"
     ]
    }
   ],
   "source": [
    "for i, j in itertools.product(range(0, 3), range(9, 12)):\n",
    "    stab = [\"_\"] * 12\n",
    "    stab[i] = 'X'\n",
    "    stab[j] = 'Z'\n",
    "    stab_str = \"\".join(stab)\n",
    "    print(stab_str)\n",
    "\n",
    "    stab = [\"_\"] * 12\n",
    "    stab[j] = 'X'\n",
    "    stab[i] = 'Z'\n",
    "    stab_str = \"\".join(stab)\n",
    "    print(stab_str)"
   ]
  },
  {
   "cell_type": "code",
   "execution_count": null,
   "metadata": {},
   "outputs": [
    {
     "data": {
      "text/plain": [
       "'__Z________X'"
      ]
     },
     "execution_count": 143,
     "metadata": {},
     "output_type": "execute_result"
    }
   ],
   "source": [
    "stab_str.translate(str.maketrans({\"X\": \"Z\", \"Z\": \"X\"}))"
   ]
  },
  {
   "cell_type": "code",
   "execution_count": null,
   "metadata": {},
   "outputs": [],
   "source": []
  },
  {
   "cell_type": "code",
   "execution_count": null,
   "metadata": {},
   "outputs": [],
   "source": []
  }
 ],
 "metadata": {
  "kernelspec": {
   "display_name": ".venv",
   "language": "python",
   "name": "python3"
  },
  "language_info": {
   "codemirror_mode": {
    "name": "ipython",
    "version": 3
   },
   "file_extension": ".py",
   "mimetype": "text/x-python",
   "name": "python",
   "nbconvert_exporter": "python",
   "pygments_lexer": "ipython3",
   "version": "3.9.17"
  }
 },
 "nbformat": 4,
 "nbformat_minor": 2
}
