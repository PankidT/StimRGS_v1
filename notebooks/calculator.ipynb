{
 "cells": [
  {
   "cell_type": "code",
   "execution_count": 1,
   "metadata": {},
   "outputs": [],
   "source": [
    "import random\n",
    "import numpy as np\n",
    "import stimrgs_v1 as pan_lib\n",
    "import stim"
   ]
  },
  {
   "cell_type": "code",
   "execution_count": null,
   "metadata": {},
   "outputs": [],
   "source": [
    "def generate_rgs_random(num_nodes: int, num_bell_between_row: int) -> tuple[stim.TableauSimulator, str]:\n",
    "    \"\"\"Generate a random RGS circuit with the given number of nodes and bells.\n",
    "    \n",
    "    Args:\n",
    "        num_nodes (int): The number of nodes in the RGS system (3arms -> 12 nodes, 4arms -> 16 nodes).\n",
    "        num_bell_between_row (int): The number of bells want to randomly generate between row1 and row2, as well as, row3 and row4.\n",
    "    \n",
    "    Returns:\n",
    "        stim.TableauSimulator, str\n",
    "        rgs's queries from input configuration, and the generated RGS circuit as a string.\n",
    "    \"\"\"\n",
    "    edges = []\n",
    "    queries = []\n",
    "\n",
    "    if num_nodes % 4 != 0:\n",
    "        raise ValueError(\"Number of nodes should be a multiple of 4.\")\n",
    "    if num_bell_between_row > num_nodes/4:\n",
    "        raise ValueError(\"Number of Bell pairs should be less than or equal to the number of nodes in each row.\")\n",
    "    \n",
    "    num_nodes_each_row = int(num_nodes/4)\n",
    "    row_1 = range(0, num_nodes_each_row)\n",
    "    row_2 = range(num_nodes_each_row, 2*num_nodes_each_row)\n",
    "    row_3 = range(2*num_nodes_each_row, 3*num_nodes_each_row)\n",
    "    row_4 = range(3*num_nodes_each_row, 4*num_nodes_each_row)\n",
    "\n",
    "    for i in range(num_nodes):\n",
    "        q = ['_'] * num_nodes \n",
    "        q[i] = 'X'\n",
    "        queries.append(q)\n",
    "\n",
    "    queries_result = []\n",
    "    for index, q in enumerate(queries):    \n",
    "\n",
    "        if index in row_1:\n",
    "            random_top = random.sample(row_2, num_bell_between_row)              \n",
    "            for idx in random_top:\n",
    "                q[idx] = 'Z'    \n",
    "                queries[idx][index] = 'Z'\n",
    "                edges.extend([index, idx])\n",
    "        \n",
    "        if index in row_2:\n",
    "            # index = 2,3   z at 4,5\n",
    "            # next to add z at 2,3 when index = 4,5\n",
    "            q[index + num_nodes//4] = 'Z'        \n",
    "                        \n",
    "            edges.extend([index, index + num_nodes//4])\n",
    "\n",
    "        if index in row_3:\n",
    "            random_bottom = random.sample(row_4, num_bell_between_row)            \n",
    "            for idx in random_bottom:\n",
    "                q[idx] = 'Z'        \n",
    "                queries[idx][index] = 'Z'  \n",
    "                edges.extend([index, idx])\n",
    "\n",
    "                q[index - num_nodes//4] = 'Z'\n",
    "\n",
    "        _q = ''.join(q)\n",
    "        queries_result.append(_q)\n",
    "    \n",
    "    circuit = pan_lib.utils.generate_h_cz_string(edges, fix_nodes=True, num_nodes=num_nodes)\n",
    "\n",
    "    return queries_result, circuit "
   ]
  },
  {
   "cell_type": "code",
   "execution_count": 3,
   "metadata": {},
   "outputs": [
    {
     "data": {
      "text/plain": [
       "(['X__ZZ_______',\n",
       "  '_X_ZZ_______',\n",
       "  '__XZZ_______',\n",
       "  'ZZZX__Z_____',\n",
       "  'ZZZ_X__Z____',\n",
       "  '_____X__Z___',\n",
       "  '___Z__X__Z_Z',\n",
       "  '____Z__X_ZZ_',\n",
       "  '_____Z__XZ_Z',\n",
       "  '______ZZZX__',\n",
       "  '_______Z__X_',\n",
       "  '______Z_Z__X'],\n",
       " 'H 0 1 2 3 4 5 6 7 8 9 10 11\\nCZ 0 3 0 4 1 3 1 4 2 4 2 3 3 6 4 7 5 8 6 9 6 11 7 9 7 10 8 11 8 9')"
      ]
     },
     "execution_count": 3,
     "metadata": {},
     "output_type": "execute_result"
    }
   ],
   "source": [
    "generate_rgs_random(12, 2)"
   ]
  },
  {
   "cell_type": "code",
   "execution_count": null,
   "metadata": {},
   "outputs": [],
   "source": []
  }
 ],
 "metadata": {
  "kernelspec": {
   "display_name": ".venv",
   "language": "python",
   "name": "python3"
  },
  "language_info": {
   "codemirror_mode": {
    "name": "ipython",
    "version": 3
   },
   "file_extension": ".py",
   "mimetype": "text/x-python",
   "name": "python",
   "nbconvert_exporter": "python",
   "pygments_lexer": "ipython3",
   "version": "3.9.17"
  }
 },
 "nbformat": 4,
 "nbformat_minor": 2
}
