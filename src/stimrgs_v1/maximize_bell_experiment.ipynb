{
 "cells": [
  {
   "cell_type": "code",
   "execution_count": 1,
   "metadata": {},
   "outputs": [],
   "source": [
    "%load_ext autoreload\n",
    "%autoreload 2"
   ]
  },
  {
   "cell_type": "code",
   "execution_count": 2,
   "metadata": {},
   "outputs": [],
   "source": [
    "import stim\n",
    "from stimrgs_v1.utils import *\n",
    "from stimrgs_v1.stabilizer_operations import *\n",
    "from tqdm import tqdm"
   ]
  },
  {
   "cell_type": "code",
   "execution_count": null,
   "metadata": {},
   "outputs": [],
   "source": [
    "def find_stabilizers_result(num_nodes:int):\n",
    "    all_stabilizer_result = []\n",
    "    num_nodes_each_row = int(num_nodes/4)\n",
    "    row_1 = list(range(0, num_nodes_each_row))\n",
    "    row_2 = list(range(num_nodes_each_row, 2*num_nodes_each_row))\n",
    "    row_3 = list(range(2*num_nodes_each_row, 3*num_nodes_each_row))\n",
    "    row_4 = list(range(3*num_nodes_each_row, 4*num_nodes_each_row))\n",
    "\n",
    "    for i in row_1:\n",
    "        for j in row_2:\n",
    "            for k in row_3:\n",
    "                for l in row_4:\n",
    "                    # Create s_1 and replace character at index j with 'Z'\n",
    "                    s_1 = '_' * i + 'X' + '_' * (11 - i) \n",
    "                    s_1 = s_1[:j] + 'Z' + s_1[j+1:]  # Create a new string with 'Z' at the desired position                \n",
    "\n",
    "                    # Create s_2 and replace character at index k with 'Z'\n",
    "                    s_2 = '_' * j + 'X' + '_' * (11 - j)\n",
    "                    s_2 = s_2[:k] + 'Z' + s_2[k+1:]  # Create a new string with 'Z' at the desired position\n",
    "                    # Create a new string with 'Z' at the desired index i\n",
    "                    s_2 = s_2[:i] + 'Z' + s_2[i+1:]  # Replace character at index i with 'X'\n",
    "\n",
    "                    s_3 = '_' * k + 'X' + '_' * (11 - k)\n",
    "                    s_3 = s_3[:l] + 'Z' + s_3[l+1:]  \n",
    "                    # Create a new string with 'Z' at the desired position\n",
    "                    s_3 = s_3[:j] + 'Z' + s_3[j+1:]  # Replace character at index i with 'X'\n",
    "\n",
    "                    s_4 = '_' * l + 'X' + '_' * (11 - l)\n",
    "                    s_4 = s_4[:k] + 'Z' + s_4[k+1:]  # Create a new string with 'Z' at the desired position\n",
    "\n",
    "                    stabilizer_result = [s_1, s_2, s_3, s_4]\n",
    "                    all_stabilizer_result.append(stabilizer_result)\n",
    "\n",
    "    if len(all_stabilizer_result) != ((num_nodes//4)**4):\n",
    "        raise ValueError(\"The number of stabilizer strings is not correct\")\n",
    "    \n",
    "    return all_stabilizer_result"
   ]
  },
  {
   "cell_type": "code",
   "execution_count": 25,
   "metadata": {},
   "outputs": [
    {
     "name": "stderr",
     "output_type": "stream",
     "text": [
      " 10%|█         | 1/10 [00:05<00:48,  5.38s/it]"
     ]
    },
    {
     "name": "stdout",
     "output_type": "stream",
     "text": [
      "Max found bells 0: 2\n"
     ]
    },
    {
     "name": "stderr",
     "output_type": "stream",
     "text": [
      " 20%|██        | 2/10 [00:10<00:43,  5.39s/it]"
     ]
    },
    {
     "name": "stdout",
     "output_type": "stream",
     "text": [
      "Max found bells 1: 2\n"
     ]
    },
    {
     "name": "stderr",
     "output_type": "stream",
     "text": [
      " 30%|███       | 3/10 [00:15<00:36,  5.26s/it]"
     ]
    },
    {
     "name": "stdout",
     "output_type": "stream",
     "text": [
      "Max found bells 2: 2\n"
     ]
    },
    {
     "name": "stderr",
     "output_type": "stream",
     "text": [
      " 30%|███       | 3/10 [00:17<00:41,  6.00s/it]\n"
     ]
    },
    {
     "ename": "KeyboardInterrupt",
     "evalue": "",
     "output_type": "error",
     "traceback": [
      "\u001b[0;31m---------------------------------------------------------------------------\u001b[0m",
      "\u001b[0;31mKeyboardInterrupt\u001b[0m                         Traceback (most recent call last)",
      "Cell \u001b[0;32mIn[25], line 26\u001b[0m\n\u001b[1;32m     23\u001b[0m found: \u001b[38;5;28mbool\u001b[39m \u001b[38;5;241m=\u001b[39m \u001b[38;5;28;01mFalse\u001b[39;00m\n\u001b[1;32m     24\u001b[0m bell_found_list \u001b[38;5;241m=\u001b[39m []\n\u001b[0;32m---> 26\u001b[0m q, circuit \u001b[38;5;241m=\u001b[39m \u001b[43mgenerate_rgs_random\u001b[49m\u001b[43m(\u001b[49m\u001b[43mnum_nodes\u001b[49m\u001b[38;5;241;43m=\u001b[39;49m\u001b[43mnum_nodes\u001b[49m\u001b[43m,\u001b[49m\u001b[43m \u001b[49m\u001b[43mnum_bell_between_row\u001b[49m\u001b[38;5;241;43m=\u001b[39;49m\u001b[43mnum_bell_between_row\u001b[49m\u001b[43m)\u001b[49m\n\u001b[1;32m     27\u001b[0m s \u001b[38;5;241m=\u001b[39m stim\u001b[38;5;241m.\u001b[39mTableauSimulator()\n\u001b[1;32m     28\u001b[0m s\u001b[38;5;241m.\u001b[39mdo_circuit(stim\u001b[38;5;241m.\u001b[39mCircuit(circuit))\n",
      "File \u001b[0;32m~/Documents/Programming/Python_file/StimRGS_v1/src/stimrgs_v1/stabilizer_operations.py:262\u001b[0m, in \u001b[0;36mgenerate_rgs_random\u001b[0;34m(num_nodes, num_bell_between_row)\u001b[0m\n\u001b[1;32m    260\u001b[0m q \u001b[38;5;241m=\u001b[39m \u001b[38;5;124m'\u001b[39m\u001b[38;5;124m'\u001b[39m\u001b[38;5;241m.\u001b[39mjoin(q)\n\u001b[1;32m    261\u001b[0m queries_result\u001b[38;5;241m.\u001b[39mappend(q)\n\u001b[0;32m--> 262\u001b[0m circuit \u001b[38;5;241m=\u001b[39m \u001b[43mgenerate_h_cz_string\u001b[49m\u001b[43m(\u001b[49m\u001b[43medges\u001b[49m\u001b[43m,\u001b[49m\u001b[43m \u001b[49m\u001b[43mfix_nodes\u001b[49m\u001b[38;5;241;43m=\u001b[39;49m\u001b[38;5;28;43;01mTrue\u001b[39;49;00m\u001b[43m,\u001b[49m\u001b[43m \u001b[49m\u001b[43mnum_nodes\u001b[49m\u001b[38;5;241;43m=\u001b[39;49m\u001b[43mnum_nodes\u001b[49m\u001b[43m)\u001b[49m\n\u001b[1;32m    263\u001b[0m s \u001b[38;5;241m=\u001b[39m stim\u001b[38;5;241m.\u001b[39mTableauSimulator()\n\u001b[1;32m    264\u001b[0m s\u001b[38;5;241m.\u001b[39mdo_circuit(stim\u001b[38;5;241m.\u001b[39mCircuit(circuit))\n",
      "File \u001b[0;32m~/Documents/Programming/Python_file/StimRGS_v1/src/stimrgs_v1/utils.py:132\u001b[0m, in \u001b[0;36mgenerate_h_cz_string\u001b[0;34m(numbers, fix_nodes, num_nodes)\u001b[0m\n\u001b[1;32m    130\u001b[0m \u001b[38;5;28;01mif\u001b[39;00m fix_nodes:\n\u001b[1;32m    131\u001b[0m     unique_numbers \u001b[38;5;241m=\u001b[39m [i \u001b[38;5;28;01mfor\u001b[39;00m i \u001b[38;5;129;01min\u001b[39;00m \u001b[38;5;28mrange\u001b[39m(num_nodes)]\n\u001b[0;32m--> 132\u001b[0m     h_line \u001b[38;5;241m=\u001b[39m \u001b[38;5;124m\"\u001b[39m\u001b[38;5;124mH \u001b[39m\u001b[38;5;124m\"\u001b[39m \u001b[38;5;241m+\u001b[39m \u001b[38;5;124;43m\"\u001b[39;49m\u001b[38;5;124;43m \u001b[39;49m\u001b[38;5;124;43m\"\u001b[39;49m\u001b[38;5;241;43m.\u001b[39;49m\u001b[43mjoin\u001b[49m\u001b[43m(\u001b[49m\u001b[38;5;28;43mmap\u001b[39;49m\u001b[43m(\u001b[49m\u001b[38;5;28;43mstr\u001b[39;49m\u001b[43m,\u001b[49m\u001b[43m \u001b[49m\u001b[38;5;28;43msorted\u001b[39;49m\u001b[43m(\u001b[49m\u001b[43munique_numbers\u001b[49m\u001b[43m)\u001b[49m\u001b[43m)\u001b[49m\u001b[43m)\u001b[49m\n\u001b[1;32m    133\u001b[0m     cz_line \u001b[38;5;241m=\u001b[39m \u001b[38;5;124m\"\u001b[39m\u001b[38;5;124mCZ \u001b[39m\u001b[38;5;124m\"\u001b[39m \u001b[38;5;241m+\u001b[39m \u001b[38;5;124m\"\u001b[39m\u001b[38;5;124m \u001b[39m\u001b[38;5;124m\"\u001b[39m\u001b[38;5;241m.\u001b[39mjoin(\u001b[38;5;28mmap\u001b[39m(\u001b[38;5;28mstr\u001b[39m, numbers))\n\u001b[1;32m    134\u001b[0m \u001b[38;5;28;01melse\u001b[39;00m:\n",
      "\u001b[0;31mKeyboardInterrupt\u001b[0m: "
     ]
    }
   ],
   "source": [
    "# Configuration parameters\n",
    "num_trial = 10\n",
    "num_nodes = 12\n",
    "num_bell_between_row = 2\n",
    "\n",
    "max_found_bells = 0\n",
    "stabilizers_results = []\n",
    "stabilizers_results = find_stabilizers_result(num_nodes=num_nodes)\n",
    "\n",
    "for i in tqdm(range(num_trial)):\n",
    "\n",
    "    for num_measurements in range(1, num_nodes-(num_nodes//4)): \n",
    "        # print(f'Measure: {num_measurements} nodes')\n",
    "        combinations = generate_combinations_with_adjustable_replacement(\n",
    "            nodes=[i for i in range(num_nodes)], \n",
    "            max_length=num_measurements, # You have to change this parameter, if you want to modify number of node operation\n",
    "            max_self_combination=1\n",
    "        )    \n",
    "\n",
    "        for c in combinations:\n",
    "\n",
    "            # Restart parameters before operate new measurement set\n",
    "            found: bool = False\n",
    "            bell_found_list = []\n",
    "\n",
    "            q, circuit = generate_rgs_random(num_nodes=num_nodes, num_bell_between_row=num_bell_between_row)\n",
    "            s = stim.TableauSimulator()\n",
    "            s.do_circuit(stim.Circuit(circuit))\n",
    "\n",
    "            # Operate measurement\n",
    "            for index in c:\n",
    "                # Update s, q\n",
    "                s, q = measure_z_with_correction(index=index, s=s, queries=q)\n",
    "\n",
    "            # Check if result match one of all possible results\n",
    "            for result in stabilizers_results:\n",
    "                if is_subset(result, q):\n",
    "                    # print(f\"Found solution: {result}\")   \n",
    "                    bell_found_list.append(result)                     \n",
    "                    found = True                       \n",
    "            \n",
    "            if len(bell_found_list) >= max_found_bells:\n",
    "                max_found_bells = len(bell_found_list)\n",
    "\n",
    "    print(f'Max found bells {i}: {max_found_bells}')"
   ]
  },
  {
   "cell_type": "code",
   "execution_count": 27,
   "metadata": {},
   "outputs": [
    {
     "name": "stderr",
     "output_type": "stream",
     "text": [
      "  0%|          | 0/10 [00:00<?, ?it/s]"
     ]
    },
    {
     "name": "stdout",
     "output_type": "stream",
     "text": [
      "num_nodes: 12\n",
      "num_bell_between_row: 1\n",
      "Max found bells: 2\n",
      "num_nodes: 12\n",
      "num_bell_between_row: 2\n",
      "Max found bells: 2\n"
     ]
    },
    {
     "name": "stderr",
     "output_type": "stream",
     "text": [
      "  0%|          | 0/10 [01:17<?, ?it/s]"
     ]
    },
    {
     "name": "stdout",
     "output_type": "stream",
     "text": [
      "num_nodes: 12\n",
      "num_bell_between_row: 3\n",
      "Max found bells: 1\n"
     ]
    },
    {
     "name": "stderr",
     "output_type": "stream",
     "text": [
      "\n"
     ]
    },
    {
     "ename": "ValueError",
     "evalue": "Number of Bell pairs should be less than or equal to the number of nodes in each row.",
     "output_type": "error",
     "traceback": [
      "\u001b[0;31m---------------------------------------------------------------------------\u001b[0m",
      "\u001b[0;31mValueError\u001b[0m                                Traceback (most recent call last)",
      "Cell \u001b[0;32mIn[27], line 28\u001b[0m\n\u001b[1;32m     25\u001b[0m found: \u001b[38;5;28mbool\u001b[39m \u001b[38;5;241m=\u001b[39m \u001b[38;5;28;01mFalse\u001b[39;00m\n\u001b[1;32m     26\u001b[0m bell_found_list \u001b[38;5;241m=\u001b[39m []\n\u001b[0;32m---> 28\u001b[0m q, circuit \u001b[38;5;241m=\u001b[39m \u001b[43mgenerate_rgs_random\u001b[49m\u001b[43m(\u001b[49m\u001b[43mnum_nodes\u001b[49m\u001b[38;5;241;43m=\u001b[39;49m\u001b[43mnum_nodes\u001b[49m\u001b[43m,\u001b[49m\u001b[43m \u001b[49m\u001b[43mnum_bell_between_row\u001b[49m\u001b[38;5;241;43m=\u001b[39;49m\u001b[43mnum_bell_between_row\u001b[49m\u001b[43m)\u001b[49m\n\u001b[1;32m     29\u001b[0m s \u001b[38;5;241m=\u001b[39m stim\u001b[38;5;241m.\u001b[39mTableauSimulator()\n\u001b[1;32m     30\u001b[0m s\u001b[38;5;241m.\u001b[39mdo_circuit(stim\u001b[38;5;241m.\u001b[39mCircuit(circuit))\n",
      "File \u001b[0;32m~/Documents/Programming/Python_file/StimRGS_v1/src/stimrgs_v1/stabilizer_operations.py:221\u001b[0m, in \u001b[0;36mgenerate_rgs_random\u001b[0;34m(num_nodes, num_bell_between_row)\u001b[0m\n\u001b[1;32m    219\u001b[0m     \u001b[38;5;28;01mraise\u001b[39;00m \u001b[38;5;167;01mValueError\u001b[39;00m(\u001b[38;5;124m\"\u001b[39m\u001b[38;5;124mNumber of nodes should be a multiple of 4.\u001b[39m\u001b[38;5;124m\"\u001b[39m)\n\u001b[1;32m    220\u001b[0m \u001b[38;5;28;01mif\u001b[39;00m num_bell_between_row \u001b[38;5;241m>\u001b[39m num_nodes\u001b[38;5;241m/\u001b[39m\u001b[38;5;241m4\u001b[39m:\n\u001b[0;32m--> 221\u001b[0m     \u001b[38;5;28;01mraise\u001b[39;00m \u001b[38;5;167;01mValueError\u001b[39;00m(\u001b[38;5;124m\"\u001b[39m\u001b[38;5;124mNumber of Bell pairs should be less than or equal to the number of nodes in each row.\u001b[39m\u001b[38;5;124m\"\u001b[39m)\n\u001b[1;32m    223\u001b[0m num_nodes_each_row \u001b[38;5;241m=\u001b[39m \u001b[38;5;28mint\u001b[39m(num_nodes\u001b[38;5;241m/\u001b[39m\u001b[38;5;241m4\u001b[39m)\n\u001b[1;32m    224\u001b[0m row_1 \u001b[38;5;241m=\u001b[39m \u001b[38;5;28mlist\u001b[39m(\u001b[38;5;28mrange\u001b[39m(\u001b[38;5;241m0\u001b[39m, num_nodes_each_row))\n",
      "\u001b[0;31mValueError\u001b[0m: Number of Bell pairs should be less than or equal to the number of nodes in each row."
     ]
    }
   ],
   "source": [
    "experiments_num_nodes = [12, 16, 20, 24, 28, 32, 36, 40, 44, 48]\n",
    "experiments_num_bell_between_row = [1, 2, 3, 4]\n",
    "num_trial = 5\n",
    "\n",
    "for num_nodes in tqdm(experiments_num_nodes):\n",
    "    for num_bell_between_row in experiments_num_bell_between_row:\n",
    "        \n",
    "        max_found_bells = 0\n",
    "        stabilizers_results = []\n",
    "        stabilizers_results = find_stabilizers_result(num_nodes=num_nodes)\n",
    "\n",
    "        for i in range(num_trial):\n",
    "\n",
    "            for num_measurements in range(1, num_nodes-(num_nodes//4)): \n",
    "                # print(f'Measure: {num_measurements} nodes')\n",
    "                combinations = generate_combinations_with_adjustable_replacement(\n",
    "                    nodes=[i for i in range(num_nodes)], \n",
    "                    max_length=num_measurements, # You have to change this parameter, if you want to modify number of node operation\n",
    "                    max_self_combination=1\n",
    "                )    \n",
    "\n",
    "                for c in combinations:\n",
    "\n",
    "                    # Restart parameters before operate new measurement set\n",
    "                    found: bool = False\n",
    "                    bell_found_list = []\n",
    "\n",
    "                    q, circuit = generate_rgs_random(num_nodes=num_nodes, num_bell_between_row=num_bell_between_row)\n",
    "                    s = stim.TableauSimulator()\n",
    "                    s.do_circuit(stim.Circuit(circuit))\n",
    "\n",
    "                    # Operate measurement\n",
    "                    for index in c:\n",
    "                        # Update s, q\n",
    "                        s, q = measure_z_with_correction(index=index, s=s, queries=q)\n",
    "\n",
    "                    # Check if result match one of all possible results\n",
    "                    for result in stabilizers_results:\n",
    "                        if is_subset(result, q):\n",
    "                            # print(f\"Found solution: {result}\")   \n",
    "                            bell_found_list.append(result)                     \n",
    "                            found = True                       \n",
    "                    \n",
    "                    if len(bell_found_list) >= max_found_bells:\n",
    "                        max_found_bells = len(bell_found_list) \n",
    "\n",
    "        print(f'num_nodes: {num_nodes}')\n",
    "        print(f'num_bell_between_row: {num_bell_between_row}')\n",
    "        print(f'Max found bells: {max_found_bells}')"
   ]
  },
  {
   "cell_type": "code",
   "execution_count": 39,
   "metadata": {},
   "outputs": [
    {
     "name": "stderr",
     "output_type": "stream",
     "text": [
      " 10%|█         | 1/10 [00:01<00:09,  1.11s/it]"
     ]
    },
    {
     "name": "stdout",
     "output_type": "stream",
     "text": [
      "max_found_bells trial: 0\n"
     ]
    },
    {
     "name": "stderr",
     "output_type": "stream",
     "text": [
      " 20%|██        | 2/10 [00:02<00:09,  1.15s/it]"
     ]
    },
    {
     "name": "stdout",
     "output_type": "stream",
     "text": [
      "max_found_bells trial: 0\n"
     ]
    },
    {
     "name": "stderr",
     "output_type": "stream",
     "text": [
      " 30%|███       | 3/10 [00:03<00:07,  1.12s/it]"
     ]
    },
    {
     "name": "stdout",
     "output_type": "stream",
     "text": [
      "max_found_bells trial: 0\n"
     ]
    },
    {
     "name": "stderr",
     "output_type": "stream",
     "text": [
      " 40%|████      | 4/10 [00:04<00:07,  1.30s/it]"
     ]
    },
    {
     "name": "stdout",
     "output_type": "stream",
     "text": [
      "max_found_bells trial: 0\n"
     ]
    },
    {
     "name": "stderr",
     "output_type": "stream",
     "text": [
      " 50%|█████     | 5/10 [00:05<00:06,  1.21s/it]"
     ]
    },
    {
     "name": "stdout",
     "output_type": "stream",
     "text": [
      "max_found_bells trial: 0\n"
     ]
    },
    {
     "name": "stderr",
     "output_type": "stream",
     "text": [
      " 60%|██████    | 6/10 [00:07<00:04,  1.16s/it]"
     ]
    },
    {
     "name": "stdout",
     "output_type": "stream",
     "text": [
      "max_found_bells trial: 0\n"
     ]
    },
    {
     "name": "stderr",
     "output_type": "stream",
     "text": [
      " 70%|███████   | 7/10 [00:08<00:03,  1.15s/it]"
     ]
    },
    {
     "name": "stdout",
     "output_type": "stream",
     "text": [
      "max_found_bells trial: 0\n"
     ]
    },
    {
     "name": "stderr",
     "output_type": "stream",
     "text": [
      " 80%|████████  | 8/10 [00:09<00:02,  1.12s/it]"
     ]
    },
    {
     "name": "stdout",
     "output_type": "stream",
     "text": [
      "max_found_bells trial: 0\n"
     ]
    },
    {
     "name": "stderr",
     "output_type": "stream",
     "text": [
      " 90%|█████████ | 9/10 [00:10<00:01,  1.10s/it]"
     ]
    },
    {
     "name": "stdout",
     "output_type": "stream",
     "text": [
      "max_found_bells trial: 0\n"
     ]
    },
    {
     "name": "stderr",
     "output_type": "stream",
     "text": [
      "100%|██████████| 10/10 [00:11<00:00,  1.14s/it]"
     ]
    },
    {
     "name": "stdout",
     "output_type": "stream",
     "text": [
      "max_found_bells trial: 0\n",
      "Max found bells 2: 0\n"
     ]
    },
    {
     "name": "stderr",
     "output_type": "stream",
     "text": [
      "\n"
     ]
    }
   ],
   "source": [
    "# Configuration parameters\n",
    "num_trial = 10\n",
    "num_nodes = 16\n",
    "num_bell = 2\n",
    "\n",
    "stabilizers_results = []\n",
    "stabilizers_results = find_stabilizers_result(num_nodes=num_nodes)\n",
    "\n",
    "# Reset max_found_bells every time we change num_bell_between_row\n",
    "max_found_bells = 0\n",
    "\n",
    "for _ in tqdm(range(num_trial)):        \n",
    "\n",
    "    # Constant number of measurements\n",
    "    num_measurements = 4\n",
    "    \n",
    "    # print(f'Measure: {num_measurements} nodes')\n",
    "    combinations = generate_combinations_with_adjustable_replacement(\n",
    "        nodes=[i for i in range(num_nodes)], \n",
    "        max_length=num_measurements, # You have to change this parameter, if you want to modify number of node operation\n",
    "        max_self_combination=1\n",
    "    )    \n",
    "\n",
    "    for c in combinations:\n",
    "\n",
    "        # Restart parameters before operate new measurement set\n",
    "        found: bool = False\n",
    "        bell_found_list = []\n",
    "\n",
    "        # q, circuit = generate_rgs_random(num_nodes=num_nodes, num_bell_between_row=num_bell)\n",
    "        # s = stim.TableauSimulator()\n",
    "        # s.do_circuit(stim.Circuit(circuit))\n",
    "        s = stim_rgs_4arms_2bells()\n",
    "        q = [\n",
    "            \"X___ZZ__________\",  # node 0\n",
    "            \"_X__Z_Z_________\",  # node 1\n",
    "            \"__X__Z_Z________\",  # node 2\n",
    "            \"___X__ZZ________\",  # node 3\n",
    "            \"ZZ__X___Z_______\",  # node 4\n",
    "            \"Z_Z__X___Z______\",  # node 5\n",
    "            \"_Z_Z__X___Z_____\",  # node 6\n",
    "            \"__ZZ___X___Z____\",  # node 7\n",
    "            \"____Z___X___ZZ__\",  # node 8\n",
    "            \"_____Z___X__Z_Z_\",  # node 9\n",
    "            \"______Z___X__Z_Z\",  # node 10\n",
    "            \"_______Z___X__ZZ\",  # node 11\n",
    "            \"________ZZ__X___\",  # node 12\n",
    "            \"________Z_Z__X__\",  # node 13\n",
    "            \"_________Z_Z__X_\",  # node 14\n",
    "            \"__________ZZ___X\",  # node 15\n",
    "        ]\n",
    "\n",
    "        # Operate measurement\n",
    "        for index in c:\n",
    "            # Update s, q\n",
    "            s, q = measure_z_with_correction(index=index, s=s, queries=q)\n",
    "\n",
    "        # Check if result match one of all possible results\n",
    "        for result in stabilizers_results:\n",
    "            if is_subset(result, q):\n",
    "                # print(f\"Found solution: {result}\")   \n",
    "                bell_found_list.append(result)                     \n",
    "                found = True                       \n",
    "            \n",
    "        # Update when found new high\n",
    "        if len(bell_found_list) >= max_found_bells:\n",
    "            max_found_bells = len(bell_found_list)\n",
    "\n",
    "    print(f'max_found_bells trial: {max_found_bells}')\n",
    "\n",
    "print(f'Max found bells {num_bell}: {max_found_bells}')"
   ]
  },
  {
   "cell_type": "code",
   "execution_count": 3,
   "metadata": {},
   "outputs": [
    {
     "name": "stdout",
     "output_type": "stream",
     "text": [
      "Max found bells 2: 3\n",
      "Max found bells 3: 1\n",
      "Max found bells 4: 0\n"
     ]
    }
   ],
   "source": [
    "# Configuration parameters\n",
    "num_trial = 5\n",
    "num_nodes = 16\n",
    "num_bell_between_row = [i+2 for i in range(num_nodes//4 -1)]\n",
    "\n",
    "stabilizers_results = []\n",
    "stabilizers_results = find_stabilizers_result(num_nodes=num_nodes)\n",
    "\n",
    "for num_bell in num_bell_between_row:\n",
    "\n",
    "    # Reset max_found_bells every time we change num_bell_between_row\n",
    "    max_found_bells = 0\n",
    "\n",
    "    for _ in range(num_trial):\n",
    "\n",
    "        stabilizers_results = []\n",
    "        stabilizers_results = find_stabilizers_result(num_nodes=num_nodes)\n",
    "\n",
    "        for num_measurements in range(1, num_nodes-(num_nodes//4)-4):\n",
    "            # print(f'Measure: {num_measurements} nodes')\n",
    "            combinations = generate_combinations_with_adjustable_replacement(\n",
    "                nodes=[i for i in range(num_nodes)], \n",
    "                max_length=num_measurements, # You have to change this parameter, if you want to modify number of node operation\n",
    "                max_self_combination=1\n",
    "            )    \n",
    "\n",
    "            for c in combinations:\n",
    "\n",
    "                # Restart parameters before operate new measurement set\n",
    "                found: bool = False\n",
    "                bell_found_list = []\n",
    "\n",
    "                q, circuit = generate_rgs_random(num_nodes=num_nodes, num_bell_between_row=num_bell)\n",
    "                s = stim.TableauSimulator()\n",
    "                s.do_circuit(stim.Circuit(circuit))\n",
    "\n",
    "                # Operate measurement\n",
    "                for index in c:\n",
    "                    # Update s, q\n",
    "                    s, q = measure_z_with_correction(index=index, s=s, queries=q)\n",
    "\n",
    "                # Check if result match one of all possible results\n",
    "                for result in stabilizers_results:\n",
    "                    if is_subset(result, q):\n",
    "                        # print(f\"Found solution: {result}\")   \n",
    "                        bell_found_list.append(result)                     \n",
    "                        found = True                       \n",
    "                \n",
    "                # Update when found new high\n",
    "                if len(bell_found_list) >= max_found_bells:\n",
    "                    max_found_bells = len(bell_found_list)\n",
    "\n",
    "    print(f'Max found bells {num_bell}: {max_found_bells}')"
   ]
  },
  {
   "cell_type": "code",
   "execution_count": null,
   "metadata": {},
   "outputs": [],
   "source": []
  }
 ],
 "metadata": {
  "kernelspec": {
   "display_name": ".venv",
   "language": "python",
   "name": "python3"
  },
  "language_info": {
   "codemirror_mode": {
    "name": "ipython",
    "version": 3
   },
   "file_extension": ".py",
   "mimetype": "text/x-python",
   "name": "python",
   "nbconvert_exporter": "python",
   "pygments_lexer": "ipython3",
   "version": "3.9.19"
  }
 },
 "nbformat": 4,
 "nbformat_minor": 2
}
