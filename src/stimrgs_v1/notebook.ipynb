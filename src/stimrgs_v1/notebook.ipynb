{
 "cells": [
  {
   "cell_type": "code",
   "execution_count": 1,
   "metadata": {},
   "outputs": [],
   "source": [
    "%load_ext autoreload\n",
    "%autoreload 2"
   ]
  },
  {
   "cell_type": "code",
   "execution_count": 5,
   "metadata": {},
   "outputs": [],
   "source": [
    "import stim\n",
    "from stimrgs_v1.utils import *\n",
    "from tqdm import tqdm"
   ]
  },
  {
   "cell_type": "code",
   "execution_count": 6,
   "metadata": {},
   "outputs": [
    {
     "data": {
      "text/plain": [
       "[['X__Z________', 'Z__X__Z_____', '___Z__X__Z__', '______Z__X__'],\n",
       " ['X__Z________', 'Z__X__Z_____', '___Z__X___Z_', '______Z___X_'],\n",
       " ['X__Z________', 'Z__X__Z_____', '___Z__X____Z', '______Z____X'],\n",
       " ['X__Z________', 'Z__X___Z____', '___Z___X_Z__', '_______Z_X__'],\n",
       " ['X__Z________', 'Z__X___Z____', '___Z___X__Z_', '_______Z__X_'],\n",
       " ['X__Z________', 'Z__X___Z____', '___Z___X___Z', '_______Z___X'],\n",
       " ['X__Z________', 'Z__X____Z___', '___Z____XZ__', '________ZX__'],\n",
       " ['X__Z________', 'Z__X____Z___', '___Z____X_Z_', '________Z_X_'],\n",
       " ['X__Z________', 'Z__X____Z___', '___Z____X__Z', '________Z__X'],\n",
       " ['X___Z_______', 'Z___X_Z_____', '____Z_X__Z__', '______Z__X__'],\n",
       " ['X___Z_______', 'Z___X_Z_____', '____Z_X___Z_', '______Z___X_'],\n",
       " ['X___Z_______', 'Z___X_Z_____', '____Z_X____Z', '______Z____X'],\n",
       " ['X___Z_______', 'Z___X__Z____', '____Z__X_Z__', '_______Z_X__'],\n",
       " ['X___Z_______', 'Z___X__Z____', '____Z__X__Z_', '_______Z__X_'],\n",
       " ['X___Z_______', 'Z___X__Z____', '____Z__X___Z', '_______Z___X'],\n",
       " ['X___Z_______', 'Z___X___Z___', '____Z___XZ__', '________ZX__'],\n",
       " ['X___Z_______', 'Z___X___Z___', '____Z___X_Z_', '________Z_X_'],\n",
       " ['X___Z_______', 'Z___X___Z___', '____Z___X__Z', '________Z__X'],\n",
       " ['X____Z______', 'Z____XZ_____', '_____ZX__Z__', '______Z__X__'],\n",
       " ['X____Z______', 'Z____XZ_____', '_____ZX___Z_', '______Z___X_'],\n",
       " ['X____Z______', 'Z____XZ_____', '_____ZX____Z', '______Z____X'],\n",
       " ['X____Z______', 'Z____X_Z____', '_____Z_X_Z__', '_______Z_X__'],\n",
       " ['X____Z______', 'Z____X_Z____', '_____Z_X__Z_', '_______Z__X_'],\n",
       " ['X____Z______', 'Z____X_Z____', '_____Z_X___Z', '_______Z___X'],\n",
       " ['X____Z______', 'Z____X__Z___', '_____Z__XZ__', '________ZX__'],\n",
       " ['X____Z______', 'Z____X__Z___', '_____Z__X_Z_', '________Z_X_'],\n",
       " ['X____Z______', 'Z____X__Z___', '_____Z__X__Z', '________Z__X'],\n",
       " ['_X_Z________', '_Z_X__Z_____', '___Z__X__Z__', '______Z__X__'],\n",
       " ['_X_Z________', '_Z_X__Z_____', '___Z__X___Z_', '______Z___X_'],\n",
       " ['_X_Z________', '_Z_X__Z_____', '___Z__X____Z', '______Z____X'],\n",
       " ['_X_Z________', '_Z_X___Z____', '___Z___X_Z__', '_______Z_X__'],\n",
       " ['_X_Z________', '_Z_X___Z____', '___Z___X__Z_', '_______Z__X_'],\n",
       " ['_X_Z________', '_Z_X___Z____', '___Z___X___Z', '_______Z___X'],\n",
       " ['_X_Z________', '_Z_X____Z___', '___Z____XZ__', '________ZX__'],\n",
       " ['_X_Z________', '_Z_X____Z___', '___Z____X_Z_', '________Z_X_'],\n",
       " ['_X_Z________', '_Z_X____Z___', '___Z____X__Z', '________Z__X'],\n",
       " ['_X__Z_______', '_Z__X_Z_____', '____Z_X__Z__', '______Z__X__'],\n",
       " ['_X__Z_______', '_Z__X_Z_____', '____Z_X___Z_', '______Z___X_'],\n",
       " ['_X__Z_______', '_Z__X_Z_____', '____Z_X____Z', '______Z____X'],\n",
       " ['_X__Z_______', '_Z__X__Z____', '____Z__X_Z__', '_______Z_X__'],\n",
       " ['_X__Z_______', '_Z__X__Z____', '____Z__X__Z_', '_______Z__X_'],\n",
       " ['_X__Z_______', '_Z__X__Z____', '____Z__X___Z', '_______Z___X'],\n",
       " ['_X__Z_______', '_Z__X___Z___', '____Z___XZ__', '________ZX__'],\n",
       " ['_X__Z_______', '_Z__X___Z___', '____Z___X_Z_', '________Z_X_'],\n",
       " ['_X__Z_______', '_Z__X___Z___', '____Z___X__Z', '________Z__X'],\n",
       " ['_X___Z______', '_Z___XZ_____', '_____ZX__Z__', '______Z__X__'],\n",
       " ['_X___Z______', '_Z___XZ_____', '_____ZX___Z_', '______Z___X_'],\n",
       " ['_X___Z______', '_Z___XZ_____', '_____ZX____Z', '______Z____X'],\n",
       " ['_X___Z______', '_Z___X_Z____', '_____Z_X_Z__', '_______Z_X__'],\n",
       " ['_X___Z______', '_Z___X_Z____', '_____Z_X__Z_', '_______Z__X_'],\n",
       " ['_X___Z______', '_Z___X_Z____', '_____Z_X___Z', '_______Z___X'],\n",
       " ['_X___Z______', '_Z___X__Z___', '_____Z__XZ__', '________ZX__'],\n",
       " ['_X___Z______', '_Z___X__Z___', '_____Z__X_Z_', '________Z_X_'],\n",
       " ['_X___Z______', '_Z___X__Z___', '_____Z__X__Z', '________Z__X'],\n",
       " ['__XZ________', '__ZX__Z_____', '___Z__X__Z__', '______Z__X__'],\n",
       " ['__XZ________', '__ZX__Z_____', '___Z__X___Z_', '______Z___X_'],\n",
       " ['__XZ________', '__ZX__Z_____', '___Z__X____Z', '______Z____X'],\n",
       " ['__XZ________', '__ZX___Z____', '___Z___X_Z__', '_______Z_X__'],\n",
       " ['__XZ________', '__ZX___Z____', '___Z___X__Z_', '_______Z__X_'],\n",
       " ['__XZ________', '__ZX___Z____', '___Z___X___Z', '_______Z___X'],\n",
       " ['__XZ________', '__ZX____Z___', '___Z____XZ__', '________ZX__'],\n",
       " ['__XZ________', '__ZX____Z___', '___Z____X_Z_', '________Z_X_'],\n",
       " ['__XZ________', '__ZX____Z___', '___Z____X__Z', '________Z__X'],\n",
       " ['__X_Z_______', '__Z_X_Z_____', '____Z_X__Z__', '______Z__X__'],\n",
       " ['__X_Z_______', '__Z_X_Z_____', '____Z_X___Z_', '______Z___X_'],\n",
       " ['__X_Z_______', '__Z_X_Z_____', '____Z_X____Z', '______Z____X'],\n",
       " ['__X_Z_______', '__Z_X__Z____', '____Z__X_Z__', '_______Z_X__'],\n",
       " ['__X_Z_______', '__Z_X__Z____', '____Z__X__Z_', '_______Z__X_'],\n",
       " ['__X_Z_______', '__Z_X__Z____', '____Z__X___Z', '_______Z___X'],\n",
       " ['__X_Z_______', '__Z_X___Z___', '____Z___XZ__', '________ZX__'],\n",
       " ['__X_Z_______', '__Z_X___Z___', '____Z___X_Z_', '________Z_X_'],\n",
       " ['__X_Z_______', '__Z_X___Z___', '____Z___X__Z', '________Z__X'],\n",
       " ['__X__Z______', '__Z__XZ_____', '_____ZX__Z__', '______Z__X__'],\n",
       " ['__X__Z______', '__Z__XZ_____', '_____ZX___Z_', '______Z___X_'],\n",
       " ['__X__Z______', '__Z__XZ_____', '_____ZX____Z', '______Z____X'],\n",
       " ['__X__Z______', '__Z__X_Z____', '_____Z_X_Z__', '_______Z_X__'],\n",
       " ['__X__Z______', '__Z__X_Z____', '_____Z_X__Z_', '_______Z__X_'],\n",
       " ['__X__Z______', '__Z__X_Z____', '_____Z_X___Z', '_______Z___X'],\n",
       " ['__X__Z______', '__Z__X__Z___', '_____Z__XZ__', '________ZX__'],\n",
       " ['__X__Z______', '__Z__X__Z___', '_____Z__X_Z_', '________Z_X_'],\n",
       " ['__X__Z______', '__Z__X__Z___', '_____Z__X__Z', '________Z__X']]"
      ]
     },
     "execution_count": 6,
     "metadata": {},
     "output_type": "execute_result"
    }
   ],
   "source": [
    "first_row = [0,1,2]\n",
    "second_row = [3,4,5]\n",
    "third_row = [6,7,8]\n",
    "fouth_row = [9,10,11]\n",
    "all_stabilizer_result = []\n",
    "\n",
    "for i in first_row:\n",
    "    for j in second_row:\n",
    "        for k in third_row:\n",
    "            for l in fouth_row:\n",
    "                # Create s_1 and replace character at index j with 'Z'\n",
    "                s_1 = '_' * i + 'X' + '_' * (11 - i) \n",
    "                s_1 = s_1[:j] + 'Z' + s_1[j+1:]  # Create a new string with 'Z' at the desired position                \n",
    "\n",
    "                # Create s_2 and replace character at index k with 'Z'\n",
    "                s_2 = '_' * j + 'X' + '_' * (11 - j)\n",
    "                s_2 = s_2[:k] + 'Z' + s_2[k+1:]  # Create a new string with 'Z' at the desired position\n",
    "                # Create a new string with 'Z' at the desired index i\n",
    "                s_2 = s_2[:i] + 'Z' + s_2[i+1:]  # Replace character at index i with 'X'\n",
    "\n",
    "                s_3 = '_' * k + 'X' + '_' * (11 - k)\n",
    "                s_3 = s_3[:l] + 'Z' + s_3[l+1:]  \n",
    "                # Create a new string with 'Z' at the desired position\n",
    "                s_3 = s_3[:j] + 'Z' + s_3[j+1:]  # Replace character at index i with 'X'\n",
    "\n",
    "                s_4 = '_' * l + 'X' + '_' * (11 - l)\n",
    "                s_4 = s_4[:k] + 'Z' + s_4[k+1:]  # Create a new string with 'Z' at the desired position\n",
    "\n",
    "                stabilizer_result = [s_1, s_2, s_3, s_4]\n",
    "                all_stabilizer_result.append(stabilizer_result)\n",
    "\n",
    "all_stabilizer_result"
   ]
  },
  {
   "cell_type": "code",
   "execution_count": 7,
   "metadata": {},
   "outputs": [
    {
     "name": "stderr",
     "output_type": "stream",
     "text": [
      "  0%|          | 1/495 [00:00<00:02, 238.22it/s]\n"
     ]
    },
    {
     "ename": "AssertionError",
     "evalue": "",
     "output_type": "error",
     "traceback": [
      "\u001b[0;31m---------------------------------------------------------------------------\u001b[0m",
      "\u001b[0;31mAssertionError\u001b[0m                            Traceback (most recent call last)",
      "Cell \u001b[0;32mIn[7], line 28\u001b[0m\n\u001b[1;32m     26\u001b[0m \u001b[38;5;66;03m# Operate measurement\u001b[39;00m\n\u001b[1;32m     27\u001b[0m \u001b[38;5;28;01mfor\u001b[39;00m i \u001b[38;5;129;01min\u001b[39;00m c:\n\u001b[0;32m---> 28\u001b[0m     s, q \u001b[38;5;241m=\u001b[39m \u001b[43mmeasure_z_with_correction\u001b[49m\u001b[43m(\u001b[49m\u001b[43mindex\u001b[49m\u001b[38;5;241;43m=\u001b[39;49m\u001b[43mi\u001b[49m\u001b[43m,\u001b[49m\u001b[43m \u001b[49m\u001b[43ms\u001b[49m\u001b[38;5;241;43m=\u001b[39;49m\u001b[43ms\u001b[49m\u001b[43m,\u001b[49m\u001b[43m \u001b[49m\u001b[43mqueries\u001b[49m\u001b[38;5;241;43m=\u001b[39;49m\u001b[43mq\u001b[49m\u001b[43m)\u001b[49m\n\u001b[1;32m     30\u001b[0m \u001b[38;5;66;03m# Check result\u001b[39;00m\n\u001b[1;32m     31\u001b[0m \u001b[38;5;28;01mfor\u001b[39;00m result \u001b[38;5;129;01min\u001b[39;00m all_stabilizer_result:\n",
      "File \u001b[0;32m~/Documents/Programming/Python_file/StimRGS_v1/src/stimrgs_v1/utils.py:39\u001b[0m, in \u001b[0;36mmeasure_z_with_correction\u001b[0;34m(index, s, queries)\u001b[0m\n\u001b[1;32m     36\u001b[0m \u001b[38;5;28;01mdef\u001b[39;00m\u001b[38;5;250m \u001b[39m\u001b[38;5;21mmeasure_z_with_correction\u001b[39m(index:\u001b[38;5;28mint\u001b[39m, s:stim\u001b[38;5;241m.\u001b[39mTableauSimulator, queries:\u001b[38;5;28mlist\u001b[39m) \u001b[38;5;241m-\u001b[39m\u001b[38;5;241m>\u001b[39m stim\u001b[38;5;241m.\u001b[39mTableauSimulator:\n\u001b[1;32m     38\u001b[0m     \u001b[38;5;28;01mfor\u001b[39;00m q \u001b[38;5;129;01min\u001b[39;00m queries:\n\u001b[0;32m---> 39\u001b[0m         \u001b[38;5;28;01massert\u001b[39;00m s\u001b[38;5;241m.\u001b[39mpeek_observable_expectation(stim\u001b[38;5;241m.\u001b[39mPauliString(q)) \u001b[38;5;241m==\u001b[39m \u001b[38;5;241m1\u001b[39m\n\u001b[1;32m     41\u001b[0m     \u001b[38;5;28;01mif\u001b[39;00m index \u001b[38;5;241m==\u001b[39m \u001b[38;5;241m0\u001b[39m:\n\u001b[1;32m     42\u001b[0m         queries_mz_plus \u001b[38;5;241m=\u001b[39m [\u001b[38;5;124mf\u001b[39m\u001b[38;5;124m'\u001b[39m\u001b[38;5;124m_\u001b[39m\u001b[38;5;132;01m{\u001b[39;00mq[\u001b[38;5;241m1\u001b[39m:]\u001b[38;5;132;01m}\u001b[39;00m\u001b[38;5;124m'\u001b[39m \u001b[38;5;28;01mfor\u001b[39;00m q \u001b[38;5;129;01min\u001b[39;00m queries]\n",
      "\u001b[0;31mAssertionError\u001b[0m: "
     ]
    }
   ],
   "source": [
    "q = [\n",
    "        'X___ZZ______', # node 0\n",
    "        '_X_Z_Z______', # node 1\n",
    "        '__XZZ_______', # node 2\n",
    "        '_ZZX__Z_____', # node 3\n",
    "        'Z_Z_X__Z____', # node 4\n",
    "        'ZZ___X__Z___', # node 5\n",
    "        '___Z__X___ZZ', # node 6\n",
    "        '____Z__X_Z_Z', # node 7\n",
    "        '_____Z__XZZ_', # node 8\n",
    "        '_______ZZX__', # node 9\n",
    "        '______Z_Z_X_', # node 10\n",
    "        '______ZZ___X'  # node 11\n",
    "    ]\n",
    "\n",
    "combinations = generate_combinations_with_adjustable_replacement(\n",
    "    nodes=[0, 1, 2, 3, 4, 5, 6, 7, 8, 9, 10, 11], \n",
    "    max_length=4, # You have to change this parameter, if you want to modify number of node operation\n",
    "    max_self_combination=1\n",
    ")\n",
    "\n",
    "for c in tqdm(combinations):\n",
    "    s = stim_rgs_3arms()\n",
    "    test_stim_rgs_3arms(s)\n",
    "\n",
    "    # Operate measurement\n",
    "    for i in c:\n",
    "        s, q = measure_z_with_correction(index=i, s=s, queries=q)\n",
    "\n",
    "    # Check result\n",
    "    for result in all_stabilizer_result:\n",
    "        if is_subset(result, q):\n",
    "            print(f\"Found solution: {result}\")\n",
    "            break"
   ]
  },
  {
   "cell_type": "code",
   "execution_count": null,
   "metadata": {},
   "outputs": [],
   "source": []
  }
 ],
 "metadata": {
  "kernelspec": {
   "display_name": ".venv",
   "language": "python",
   "name": "python3"
  },
  "language_info": {
   "codemirror_mode": {
    "name": "ipython",
    "version": 3
   },
   "file_extension": ".py",
   "mimetype": "text/x-python",
   "name": "python",
   "nbconvert_exporter": "python",
   "pygments_lexer": "ipython3",
   "version": "3.9.19"
  }
 },
 "nbformat": 4,
 "nbformat_minor": 2
}
