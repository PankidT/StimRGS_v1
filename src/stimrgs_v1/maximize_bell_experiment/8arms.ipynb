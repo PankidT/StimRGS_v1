{
 "cells": [
  {
   "cell_type": "code",
   "execution_count": 1,
   "metadata": {},
   "outputs": [],
   "source": [
    "import stim\n",
    "from stimrgs_v1.utils import *\n",
    "from stimrgs_v1.stabilizer_operations import *\n",
    "from tqdm import tqdm"
   ]
  },
  {
   "cell_type": "code",
   "execution_count": 3,
   "metadata": {},
   "outputs": [
    {
     "ename": "KeyboardInterrupt",
     "evalue": "",
     "output_type": "error",
     "traceback": [
      "\u001b[0;31m---------------------------------------------------------------------------\u001b[0m",
      "\u001b[0;31mKeyboardInterrupt\u001b[0m                         Traceback (most recent call last)",
      "Cell \u001b[0;32mIn[3], line 33\u001b[0m\n\u001b[1;32m     30\u001b[0m found: \u001b[38;5;28mbool\u001b[39m \u001b[38;5;241m=\u001b[39m \u001b[38;5;28;01mFalse\u001b[39;00m\n\u001b[1;32m     31\u001b[0m bell_found_list \u001b[38;5;241m=\u001b[39m []\n\u001b[0;32m---> 33\u001b[0m q, circuit \u001b[38;5;241m=\u001b[39m \u001b[43mgenerate_rgs_random\u001b[49m\u001b[43m(\u001b[49m\u001b[43mnum_nodes\u001b[49m\u001b[38;5;241;43m=\u001b[39;49m\u001b[43mnum_nodes\u001b[49m\u001b[43m,\u001b[49m\u001b[43m \u001b[49m\u001b[43mnum_bell_between_row\u001b[49m\u001b[38;5;241;43m=\u001b[39;49m\u001b[43mnum_bell\u001b[49m\u001b[43m)\u001b[49m\n\u001b[1;32m     34\u001b[0m s \u001b[38;5;241m=\u001b[39m stim\u001b[38;5;241m.\u001b[39mTableauSimulator()\n\u001b[1;32m     35\u001b[0m s\u001b[38;5;241m.\u001b[39mdo_circuit(stim\u001b[38;5;241m.\u001b[39mCircuit(circuit))\n",
      "File \u001b[0;32m~/Documents/Programming/Python_file/StimRGS_v1/src/stimrgs_v1/stabilizer_operations.py:267\u001b[0m, in \u001b[0;36mgenerate_rgs_random\u001b[0;34m(num_nodes, num_bell_between_row)\u001b[0m\n\u001b[1;32m    264\u001b[0m     s\u001b[38;5;241m.\u001b[39mdo_circuit(stim\u001b[38;5;241m.\u001b[39mCircuit(circuit))\n\u001b[1;32m    266\u001b[0m     \u001b[38;5;28;01mfor\u001b[39;00m q \u001b[38;5;129;01min\u001b[39;00m queries_result:\n\u001b[0;32m--> 267\u001b[0m         \u001b[38;5;28;01massert\u001b[39;00m \u001b[43ms\u001b[49m\u001b[38;5;241;43m.\u001b[39;49m\u001b[43mpeek_observable_expectation\u001b[49m\u001b[43m(\u001b[49m\u001b[43mstim\u001b[49m\u001b[38;5;241;43m.\u001b[39;49m\u001b[43mPauliString\u001b[49m\u001b[43m(\u001b[49m\u001b[43mq\u001b[49m\u001b[43m)\u001b[49m\u001b[43m)\u001b[49m \u001b[38;5;241m==\u001b[39m \u001b[38;5;241m1\u001b[39m\n\u001b[1;32m    269\u001b[0m \u001b[38;5;28;01mreturn\u001b[39;00m queries_result, circuit\n",
      "\u001b[0;31mKeyboardInterrupt\u001b[0m: "
     ]
    }
   ],
   "source": [
    "# Configuration parameters\n",
    "num_trial = 5\n",
    "num_nodes = 32\n",
    "num_bell_between_row = [i+2 for i in range(num_nodes//4 -1)]\n",
    "\n",
    "stabilizers_results = []\n",
    "stabilizers_results = find_stabilizers_result(num_nodes=num_nodes)\n",
    "\n",
    "for num_bell in num_bell_between_row:\n",
    "\n",
    "    # Reset max_found_bells every time we change num_bell_between_row\n",
    "    max_found_bells = 0\n",
    "\n",
    "    for _ in range(num_trial):\n",
    "\n",
    "        stabilizers_results = []\n",
    "        stabilizers_results = find_stabilizers_result(num_nodes=num_nodes)\n",
    "\n",
    "        for num_measurements in range(5, num_nodes - 3):\n",
    "            # print(f'Measure: {num_measurements} nodes')\n",
    "            combinations = generate_combinations_with_adjustable_replacement(\n",
    "                nodes=[i for i in range(num_nodes)], \n",
    "                max_length=num_measurements, # You have to change this parameter, if you want to modify number of node operation\n",
    "                max_self_combination=1\n",
    "            )    \n",
    "\n",
    "            for c in combinations:\n",
    "\n",
    "                # Restart parameters before operate new measurement set\n",
    "                found: bool = False\n",
    "                bell_found_list = []\n",
    "\n",
    "                q, circuit = generate_rgs_random(num_nodes=num_nodes, num_bell_between_row=num_bell)\n",
    "                s = stim.TableauSimulator()\n",
    "                s.do_circuit(stim.Circuit(circuit))\n",
    "\n",
    "                # Operate measurement\n",
    "                for index in c:\n",
    "                    # Update s, q\n",
    "                    s, q = measure_z_with_correction(index=index, s=s, queries=q)\n",
    "\n",
    "                # Check if result match one of all possible results\n",
    "                for result in stabilizers_results:\n",
    "                    if is_subset(result, q):\n",
    "                        # print(f\"Found solution: {result}\")   \n",
    "                        bell_found_list.append(result)                     \n",
    "                        found = True                       \n",
    "                \n",
    "                # Update when found new high\n",
    "                if len(bell_found_list) >= max_found_bells:\n",
    "                    max_found_bells = len(bell_found_list)\n",
    "\n",
    "    print(f'Max found bells {num_bell}: {max_found_bells}')"
   ]
  },
  {
   "cell_type": "code",
   "execution_count": null,
   "metadata": {},
   "outputs": [],
   "source": []
  }
 ],
 "metadata": {
  "kernelspec": {
   "display_name": ".venv",
   "language": "python",
   "name": "python3"
  },
  "language_info": {
   "codemirror_mode": {
    "name": "ipython",
    "version": 3
   },
   "file_extension": ".py",
   "mimetype": "text/x-python",
   "name": "python",
   "nbconvert_exporter": "python",
   "pygments_lexer": "ipython3",
   "version": "3.9.19"
  }
 },
 "nbformat": 4,
 "nbformat_minor": 2
}
