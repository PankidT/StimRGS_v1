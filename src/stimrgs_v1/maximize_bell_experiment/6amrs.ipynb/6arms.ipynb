{
 "cells": [
  {
   "cell_type": "code",
   "execution_count": 1,
   "metadata": {},
   "outputs": [],
   "source": [
    "import stim\n",
    "from stimrgs_v1.utils import *\n",
    "from stimrgs_v1.stabilizer_operations import *\n",
    "from tqdm import tqdm"
   ]
  },
  {
   "cell_type": "code",
   "execution_count": null,
   "metadata": {},
   "outputs": [
    {
     "name": "stdout",
     "output_type": "stream",
     "text": [
      "Measure: 5 nodes\n",
      "Measure: 6 nodes\n",
      "Measure: 7 nodes\n",
      "Measure: 8 nodes\n",
      "Measure: 9 nodes\n",
      "Measure: 10 nodes\n",
      "Measure: 11 nodes\n",
      "Measure: 12 nodes\n",
      "Measure: 13 nodes\n",
      "Measure: 14 nodes\n",
      "Measure: 15 nodes\n",
      "Measure: 16 nodes\n",
      "Measure: 17 nodes\n",
      "Measure: 18 nodes\n",
      "Measure: 19 nodes\n",
      "Measure: 20 nodes\n"
     ]
    }
   ],
   "source": [
    "# Configuration parameters\n",
    "num_trial = 5\n",
    "num_nodes = 24\n",
    "num_bell_between_row = [i+2 for i in range(num_nodes//4 -1)]\n",
    "\n",
    "for i in range(5, num_nodes - 3): \n",
    "    print(f'Measure: {i} nodes')\n",
    "\n",
    "# measure_1 = [5, 6, 7, 8, 9]\n",
    "# measure_2 = [10, 11]\n",
    "# measure_3 = [12, 13]\n",
    "# measure_4 = [14, 15, 16]"
   ]
  },
  {
   "cell_type": "code",
   "execution_count": null,
   "metadata": {},
   "outputs": [
    {
     "ename": "KeyboardInterrupt",
     "evalue": "",
     "output_type": "error",
     "traceback": [
      "\u001b[0;31m---------------------------------------------------------------------------\u001b[0m",
      "\u001b[0;31mKeyboardInterrupt\u001b[0m                         Traceback (most recent call last)",
      "Cell \u001b[0;32mIn[2], line 33\u001b[0m\n\u001b[1;32m     30\u001b[0m found: \u001b[38;5;28mbool\u001b[39m \u001b[38;5;241m=\u001b[39m \u001b[38;5;28;01mFalse\u001b[39;00m\n\u001b[1;32m     31\u001b[0m bell_found_list \u001b[38;5;241m=\u001b[39m []\n\u001b[0;32m---> 33\u001b[0m q, circuit \u001b[38;5;241m=\u001b[39m \u001b[43mgenerate_rgs_random\u001b[49m\u001b[43m(\u001b[49m\u001b[43mnum_nodes\u001b[49m\u001b[38;5;241;43m=\u001b[39;49m\u001b[43mnum_nodes\u001b[49m\u001b[43m,\u001b[49m\u001b[43m \u001b[49m\u001b[43mnum_bell_between_row\u001b[49m\u001b[38;5;241;43m=\u001b[39;49m\u001b[43mnum_bell\u001b[49m\u001b[43m)\u001b[49m\n\u001b[1;32m     34\u001b[0m s \u001b[38;5;241m=\u001b[39m stim\u001b[38;5;241m.\u001b[39mTableauSimulator()\n\u001b[1;32m     35\u001b[0m s\u001b[38;5;241m.\u001b[39mdo_circuit(stim\u001b[38;5;241m.\u001b[39mCircuit(circuit))\n",
      "File \u001b[0;32m~/Documents/Programming/Python_file/StimRGS_v1/src/stimrgs_v1/stabilizer_operations.py:267\u001b[0m, in \u001b[0;36mgenerate_rgs_random\u001b[0;34m(num_nodes, num_bell_between_row)\u001b[0m\n\u001b[1;32m    264\u001b[0m     s\u001b[38;5;241m.\u001b[39mdo_circuit(stim\u001b[38;5;241m.\u001b[39mCircuit(circuit))\n\u001b[1;32m    266\u001b[0m     \u001b[38;5;28;01mfor\u001b[39;00m q \u001b[38;5;129;01min\u001b[39;00m queries_result:\n\u001b[0;32m--> 267\u001b[0m         \u001b[38;5;28;01massert\u001b[39;00m \u001b[43ms\u001b[49m\u001b[38;5;241;43m.\u001b[39;49m\u001b[43mpeek_observable_expectation\u001b[49m\u001b[43m(\u001b[49m\u001b[43mstim\u001b[49m\u001b[38;5;241;43m.\u001b[39;49m\u001b[43mPauliString\u001b[49m\u001b[43m(\u001b[49m\u001b[43mq\u001b[49m\u001b[43m)\u001b[49m\u001b[43m)\u001b[49m \u001b[38;5;241m==\u001b[39m \u001b[38;5;241m1\u001b[39m\n\u001b[1;32m    269\u001b[0m \u001b[38;5;28;01mreturn\u001b[39;00m queries_result, circuit\n",
      "\u001b[0;31mKeyboardInterrupt\u001b[0m: "
     ]
    }
   ],
   "source": [
    "stabilizers_results = []\n",
    "stabilizers_results = find_stabilizers_result(num_nodes=num_nodes)\n",
    "\n",
    "for num_bell in num_bell_between_row:\n",
    "\n",
    "    # Reset max_found_bells every time we change num_bell_between_row\n",
    "    max_found_bells = 0\n",
    "\n",
    "    for _ in range(num_trial):\n",
    "\n",
    "        stabilizers_results = []\n",
    "        stabilizers_results = find_stabilizers_result(num_nodes=num_nodes)\n",
    "\n",
    "        for num_measurements in range(5, num_nodes - 3):\n",
    "            # print(f'Measure: {num_measurements} nodes')\n",
    "            combinations = fast_generate_combinations_with_adjustable_replacement(\n",
    "                nodes=[i for i in range(num_nodes)], \n",
    "                max_length=num_measurements, # You have to change this parameter, if you want to modify number of node operation\n",
    "                max_self_combination=1\n",
    "            )    \n",
    "\n",
    "            for c in combinations:\n",
    "\n",
    "                # Restart parameters before operate new measurement set\n",
    "                found: bool = False\n",
    "                bell_found_list = []\n",
    "\n",
    "                q, circuit = generate_rgs_random(num_nodes=num_nodes, num_bell_between_row=num_bell)\n",
    "                s = stim.TableauSimulator()\n",
    "                s.do_circuit(stim.Circuit(circuit))\n",
    "\n",
    "                # Operate measurement\n",
    "                for index in c:\n",
    "                    # Update s, q\n",
    "                    s, q = measure_z_with_correction(index=index, s=s, queries=q)\n",
    "\n",
    "                # Check if result match one of all possible results\n",
    "                for result in stabilizers_results:\n",
    "                    if is_subset(result, q):\n",
    "                        # print(f\"Found solution: {result}\")   \n",
    "                        bell_found_list.append(result)                     \n",
    "                        found = True                       \n",
    "                \n",
    "                # Update when found new high\n",
    "                if len(bell_found_list) >= max_found_bells:\n",
    "                    max_found_bells = len(bell_found_list)\n",
    "\n",
    "    print(f'Max found bells {num_bell}: {max_found_bells}')"
   ]
  },
  {
   "cell_type": "code",
   "execution_count": 10,
   "metadata": {},
   "outputs": [
    {
     "name": "stdout",
     "output_type": "stream",
     "text": [
      "num: 5 - len: 42504\n",
      "num: 6 - len: 134596\n",
      "num: 7 - len: 346104\n",
      "num: 8 - len: 735471\n",
      "num: 9 - len: 1307504\n",
      "num: 10 - len: 1961256\n",
      "num: 11 - len: 2496144\n",
      "num: 12 - len: 2704156\n",
      "num: 13 - len: 2496144\n",
      "num: 14 - len: 1961256\n",
      "num: 15 - len: 1307504\n",
      "num: 16 - len: 735471\n",
      "num: 17 - len: 346104\n",
      "num: 18 - len: 134596\n",
      "num: 19 - len: 42504\n",
      "num: 20 - len: 10626\n"
     ]
    }
   ],
   "source": [
    "num_measurements = [i for i in range(5,21)]\n",
    "\n",
    "for num in num_measurements:\n",
    "    combinations = fast_generate_combinations_with_adjustable_replacement(\n",
    "                nodes=[i for i in range(num_nodes)], \n",
    "                max_length=num, # You have to change this parameter, if you want to modify number of node operation\n",
    "                max_self_combination=1\n",
    "            )\n",
    "    \n",
    "    print(f'num: {num} - len: {len(combinations)}')"
   ]
  },
  {
   "cell_type": "code",
   "execution_count": null,
   "metadata": {},
   "outputs": [
    {
     "data": {
      "text/plain": [
       "[5, 6, 7, 8, 9, 10, 11, 12, 13, 14, 15, 16, 17, 18, 19, 20]"
      ]
     },
     "execution_count": 9,
     "metadata": {},
     "output_type": "execute_result"
    }
   ],
   "source": [
    "'''\n",
    "5-8\n",
    "9-11\n",
    "12-13\n",
    "14-15\n",
    "16-20\n",
    "'''"
   ]
  },
  {
   "cell_type": "code",
   "execution_count": null,
   "metadata": {},
   "outputs": [],
   "source": []
  }
 ],
 "metadata": {
  "kernelspec": {
   "display_name": ".venv",
   "language": "python",
   "name": "python3"
  },
  "language_info": {
   "codemirror_mode": {
    "name": "ipython",
    "version": 3
   },
   "file_extension": ".py",
   "mimetype": "text/x-python",
   "name": "python",
   "nbconvert_exporter": "python",
   "pygments_lexer": "ipython3",
   "version": "3.9.19"
  }
 },
 "nbformat": 4,
 "nbformat_minor": 2
}
