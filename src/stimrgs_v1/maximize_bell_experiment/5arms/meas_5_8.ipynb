{
 "cells": [
  {
   "cell_type": "code",
   "execution_count": 1,
   "metadata": {},
   "outputs": [],
   "source": [
    "import stim\n",
    "from stimrgs_v1.utils import *\n",
    "from stimrgs_v1.stabilizer_operations import *\n",
    "from tqdm import tqdm"
   ]
  },
  {
   "cell_type": "code",
   "execution_count": 4,
   "metadata": {},
   "outputs": [
    {
     "name": "stderr",
     "output_type": "stream",
     "text": [
      "100%|██████████| 5/5 [1:06:54<00:00, 802.98s/it]\n"
     ]
    },
    {
     "name": "stdout",
     "output_type": "stream",
     "text": [
      "Max found bells 2: 3\n"
     ]
    },
    {
     "name": "stderr",
     "output_type": "stream",
     "text": [
      "100%|██████████| 5/5 [1:10:21<00:00, 844.38s/it]\n"
     ]
    },
    {
     "name": "stdout",
     "output_type": "stream",
     "text": [
      "Max found bells 3: 2\n"
     ]
    },
    {
     "name": "stderr",
     "output_type": "stream",
     "text": [
      "100%|██████████| 5/5 [1:03:55<00:00, 767.01s/it]\n"
     ]
    },
    {
     "name": "stdout",
     "output_type": "stream",
     "text": [
      "Max found bells 4: 0\n"
     ]
    },
    {
     "name": "stderr",
     "output_type": "stream",
     "text": [
      " 20%|██        | 1/5 [20:33<1:22:13, 1233.39s/it]\n"
     ]
    },
    {
     "ename": "KeyboardInterrupt",
     "evalue": "",
     "output_type": "error",
     "traceback": [
      "\u001b[0;31m---------------------------------------------------------------------------\u001b[0m",
      "\u001b[0;31mKeyboardInterrupt\u001b[0m                         Traceback (most recent call last)",
      "Cell \u001b[0;32mIn[4], line 37\u001b[0m\n\u001b[1;32m     34\u001b[0m \u001b[38;5;66;03m# Operate measurement\u001b[39;00m\n\u001b[1;32m     35\u001b[0m \u001b[38;5;28;01mfor\u001b[39;00m index \u001b[38;5;129;01min\u001b[39;00m c:\n\u001b[1;32m     36\u001b[0m     \u001b[38;5;66;03m# Update s, q\u001b[39;00m\n\u001b[0;32m---> 37\u001b[0m     s, q \u001b[38;5;241m=\u001b[39m \u001b[43mmeasure_z_with_correction\u001b[49m\u001b[43m(\u001b[49m\u001b[43mindex\u001b[49m\u001b[38;5;241;43m=\u001b[39;49m\u001b[43mindex\u001b[49m\u001b[43m,\u001b[49m\u001b[43m \u001b[49m\u001b[43ms\u001b[49m\u001b[38;5;241;43m=\u001b[39;49m\u001b[43ms\u001b[49m\u001b[43m,\u001b[49m\u001b[43m \u001b[49m\u001b[43mqueries\u001b[49m\u001b[38;5;241;43m=\u001b[39;49m\u001b[43mq\u001b[49m\u001b[43m)\u001b[49m\n\u001b[1;32m     39\u001b[0m \u001b[38;5;66;03m# Check if result match one of all possible results\u001b[39;00m\n\u001b[1;32m     40\u001b[0m \u001b[38;5;28;01mfor\u001b[39;00m result \u001b[38;5;129;01min\u001b[39;00m stabilizers_results:\n",
      "File \u001b[0;32m~/Documents/Programming/Python_file/StimRGS_v1/src/stimrgs_v1/stabilizer_operations.py:151\u001b[0m, in \u001b[0;36mmeasure_z_with_correction\u001b[0;34m(index, s, queries)\u001b[0m\n\u001b[1;32m    148\u001b[0m s\u001b[38;5;241m.\u001b[39mpostselect_z(index, desired_value\u001b[38;5;241m=\u001b[39m\u001b[38;5;28;01mFalse\u001b[39;00m) \n\u001b[1;32m    150\u001b[0m \u001b[38;5;28;01mfor\u001b[39;00m q \u001b[38;5;129;01min\u001b[39;00m queries_mz_plus:\n\u001b[0;32m--> 151\u001b[0m     \u001b[38;5;28;01massert\u001b[39;00m \u001b[43ms\u001b[49m\u001b[38;5;241;43m.\u001b[39;49m\u001b[43mpeek_observable_expectation\u001b[49m\u001b[43m(\u001b[49m\u001b[43mstim\u001b[49m\u001b[38;5;241;43m.\u001b[39;49m\u001b[43mPauliString\u001b[49m\u001b[43m(\u001b[49m\u001b[43mq\u001b[49m\u001b[43m)\u001b[49m\u001b[43m)\u001b[49m \u001b[38;5;241m==\u001b[39m \u001b[38;5;241m1\u001b[39m\n\u001b[1;32m    153\u001b[0m \u001b[38;5;28;01mreturn\u001b[39;00m s, queries_mz_plus\n",
      "\u001b[0;31mKeyboardInterrupt\u001b[0m: "
     ]
    }
   ],
   "source": [
    "# Configuration parameters\n",
    "num_trial = 5\n",
    "num_nodes = 20\n",
    "num_bell_between_row = [i+2 for i in range(num_nodes//4 -1)]\n",
    "\n",
    "stabilizers_results = []\n",
    "stabilizers_results = find_stabilizers_result(num_nodes=num_nodes)\n",
    "\n",
    "for num_bell in num_bell_between_row:\n",
    "\n",
    "    # Reset max_found_bells every time we change num_bell_between_row\n",
    "    max_found_bells = 0\n",
    "\n",
    "    for trial in tqdm(range(num_trial)):        \n",
    "\n",
    "        # for num_measurements in tqdm(range(5, num_nodes - 3)):\n",
    "        for num_measurements in [4,5,6,7,8]:\n",
    "        # num_measurements = 16                         \n",
    "            combinations = fast_generate_combinations_with_adjustable_replacement(\n",
    "                nodes=[i for i in range(num_nodes)], \n",
    "                max_length=num_measurements, # You have to change this parameter, if you want to modify number of node operation\n",
    "                max_self_combination=1\n",
    "            )                    \n",
    "\n",
    "            for c in combinations: \n",
    "                # Restart parameters before operate new measurement set\n",
    "                found: bool = False\n",
    "                bell_found_list = []\n",
    "\n",
    "                q, circuit = generate_rgs_random(num_nodes=num_nodes, num_bell_between_row=num_bell)\n",
    "                s = stim.TableauSimulator()\n",
    "                s.do_circuit(stim.Circuit(circuit))\n",
    "\n",
    "                # Operate measurement\n",
    "                for index in c:\n",
    "                    # Update s, q\n",
    "                    s, q = measure_z_with_correction(index=index, s=s, queries=q)\n",
    "\n",
    "                # Check if result match one of all possible results\n",
    "                for result in stabilizers_results:\n",
    "                    if is_subset(result, q):\n",
    "                        # print(f\"Found solution: {result}\")   \n",
    "                        bell_found_list.append(result)                     \n",
    "                        found = True                       \n",
    "                \n",
    "                # Update when found new high\n",
    "                if len(bell_found_list) >= max_found_bells:\n",
    "                    max_found_bells = len(bell_found_list)\n",
    "\n",
    "    print(f'Max found bells {num_bell}: {max_found_bells}')"
   ]
  },
  {
   "cell_type": "code",
   "execution_count": null,
   "metadata": {},
   "outputs": [],
   "source": [
    "# Configuration parameters\n",
    "num_trial = 5\n",
    "num_nodes = 20\n",
    "num_bell_between_row = [i+2 for i in range(num_nodes//4 -1)]\n",
    "\n",
    "stabilizers_results = []\n",
    "stabilizers_results = find_stabilizers_result(num_nodes=num_nodes)\n",
    "\n",
    "for num_bell in num_bell_between_row:\n",
    "\n",
    "    # Reset max_found_bells every time we change num_bell_between_row\n",
    "    max_found_bells = 0\n",
    "\n",
    "    for trial in tqdm(range(num_trial)):        \n",
    "\n",
    "        # for num_measurements in tqdm(range(5, num_nodes - 3)):\n",
    "        for num_measurements in [4,5,6,7,8]:\n",
    "        # num_measurements = 16                         \n",
    "            combinations = fast_generate_combinations_with_adjustable_replacement(\n",
    "                nodes=[i for i in range(num_nodes)], \n",
    "                max_length=num_measurements, # You have to change this parameter, if you want to modify number of node operation\n",
    "                max_self_combination=1\n",
    "            )                    \n",
    "\n",
    "            for c in combinations: \n",
    "                # Restart parameters before operate new measurement set\n",
    "                found: bool = False\n",
    "                bell_found_list = []\n",
    "\n",
    "                q, circuit = generate_rgs_random(num_nodes=num_nodes, num_bell_between_row=num_bell)\n",
    "                s = stim.TableauSimulator()\n",
    "                s.do_circuit(stim.Circuit(circuit))\n",
    "\n",
    "                # Operate measurement\n",
    "                for index in c:\n",
    "                    # Update s, q\n",
    "                    # s, q = measure_z_with_correction(index=index, s=s, queries=q)\n",
    "                    s.postselect_z(index, desired_value=False)\n",
    "\n",
    "                # Check if result match one of all possible results\n",
    "                for result in stabilizers_results:\n",
    "                    if is_subset(result, q):\n",
    "                        # print(f\"Found solution: {result}\")   \n",
    "                        bell_found_list.append(result)                     \n",
    "                        found = True                       \n",
    "                \n",
    "                # Update when found new high\n",
    "                if len(bell_found_list) >= max_found_bells:\n",
    "                    max_found_bells = len(bell_found_list)\n",
    "\n",
    "    print(f'Max found bells {num_bell}: {max_found_bells}')"
   ]
  },
  {
   "cell_type": "code",
   "execution_count": 36,
   "metadata": {},
   "outputs": [
    {
     "data": {
      "text/plain": [
       "[stim.PauliString(\"+X_____X__Z__\"),\n",
       " stim.PauliString(\"+Z__X_____X__\"),\n",
       " stim.PauliString(\"+_Z__________\"),\n",
       " stim.PauliString(\"+__Z_________\"),\n",
       " stim.PauliString(\"+___Z__X__Z__\"),\n",
       " stim.PauliString(\"+____Z_______\"),\n",
       " stim.PauliString(\"+_____Z______\"),\n",
       " stim.PauliString(\"+______Z__X__\"),\n",
       " stim.PauliString(\"+_______Z____\"),\n",
       " stim.PauliString(\"+________Z___\"),\n",
       " stim.PauliString(\"+__________Z_\"),\n",
       " stim.PauliString(\"+___________Z\")]"
      ]
     },
     "execution_count": 36,
     "metadata": {},
     "output_type": "execute_result"
    }
   ],
   "source": [
    "first_station = '0'\n",
    "middle_edge = '3 6'\n",
    "# full mid-edge = ['3 6', '4 7', '5, 8']\n",
    "end_station = '9'\n",
    "\n",
    "bell_circuit = stim.Circuit(f'''\n",
    "    H 0 1 2 3 4 5 6 7 8 9 10 11\n",
    "    CZ {first_station} 3 {middle_edge} 6 {end_station}\n",
    "''')\n",
    "\n",
    "q, circuit = generate_rgs_random(num_nodes=12, num_bell_between_row=3)\n",
    "s = stim.TableauSimulator()\n",
    "# s.do_circuit(stim.Circuit(circuit))\n",
    "s.do_circuit(bell_circuit)\n",
    "\n",
    "for i in [1,2,4,5,7,8,10,11]:\n",
    "    s.postselect_z(i, desired_value=False)\n",
    "\n",
    "s.canonical_stabilizers()"
   ]
  },
  {
   "cell_type": "code",
   "execution_count": null,
   "metadata": {},
   "outputs": [],
   "source": [
    "def all_bell_result(firsts, middles, ends):\n",
    "    all_bell_result = []    \n",
    "    for first in firsts:\n",
    "        for middle in middles:\n",
    "            for end in ends:\n",
    "\n",
    "                elements = middle.split()\n",
    "                duplicated_elements = [element for element in elements for _ in range(2)]\n",
    "                result = ' '.join(duplicated_elements)\n",
    "\n",
    "                numbers = [first + ' ' + middle + ' ' +  end]\n",
    "                unique_numbers = sorted(set(numbers), key=numbers.index)\n",
    "                h_line = \"H \" + \" \".join(map(str, sorted(unique_numbers)))\n",
    "\n",
    "                circuit = f'''{h_line}\\nCZ {first} {result} {end}'''\n",
    "\n",
    "                s = stim.TableauSimulator()\n",
    "                s.do_circuit(stim.Circuit(circuit))\n",
    "\n",
    "                # all_bell_result.append(stim.Circuit(circuit))\n",
    "                all_bell_result.append(s)\n",
    "\n",
    "    return all_bell_result\n",
    "\n",
    "first = ['0', '1', '2']\n",
    "middle = ['3 6', '4 7', '5 8']\n",
    "end = ['9', '10', '11']\n",
    "\n",
    "result = all_bell_result(first, middle, end)"
   ]
  },
  {
   "cell_type": "code",
   "execution_count": 79,
   "metadata": {},
   "outputs": [
    {
     "data": {
      "text/plain": [
       "[stim.PauliString(\"+X_____X__Z\"),\n",
       " stim.PauliString(\"+Z__X_____X\"),\n",
       " stim.PauliString(\"+_Z________\"),\n",
       " stim.PauliString(\"+__Z_______\"),\n",
       " stim.PauliString(\"+___Z__X__Z\"),\n",
       " stim.PauliString(\"+____Z_____\"),\n",
       " stim.PauliString(\"+_____Z____\"),\n",
       " stim.PauliString(\"+______Z__X\"),\n",
       " stim.PauliString(\"+_______Z__\"),\n",
       " stim.PauliString(\"+________Z_\")]"
      ]
     },
     "execution_count": 79,
     "metadata": {},
     "output_type": "execute_result"
    }
   ],
   "source": [
    "result[0].canonical_stabilizers()"
   ]
  },
  {
   "cell_type": "code",
   "execution_count": 80,
   "metadata": {},
   "outputs": [
    {
     "data": {
      "text/plain": [
       "[stim.PauliString(\"+X_______XZ__\"),\n",
       " stim.PauliString(\"+Z____X___X__\"),\n",
       " stim.PauliString(\"+_Z__________\"),\n",
       " stim.PauliString(\"+__X___X____Z\"),\n",
       " stim.PauliString(\"+__ZX_______X\"),\n",
       " stim.PauliString(\"+___Z__X____Z\"),\n",
       " stim.PauliString(\"+____Z_______\"),\n",
       " stim.PauliString(\"+_____Z__XZ__\"),\n",
       " stim.PauliString(\"+______Z____X\"),\n",
       " stim.PauliString(\"+_______Z____\"),\n",
       " stim.PauliString(\"+________ZX__\"),\n",
       " stim.PauliString(\"+__________Z_\")]"
      ]
     },
     "execution_count": 80,
     "metadata": {},
     "output_type": "execute_result"
    }
   ],
   "source": [
    "q = [\n",
    "    'X___ZZ______', # node 0\n",
    "    '_X_Z_Z______', # node 1\n",
    "    '__XZZ_______', # node 2\n",
    "    '_ZZX__Z_____', # node 3\n",
    "    'Z_Z_X__Z____', # node 4\n",
    "    'ZZ___X__Z___', # node 5\n",
    "    '___Z__X___ZZ', # node 6\n",
    "    '____Z__X_Z_Z', # node 7\n",
    "    '_____Z__XZZ_', # node 8\n",
    "    '_______ZZX__', # node 9\n",
    "    '______Z_Z_X_', # node 10\n",
    "    '______ZZ___X'  # node 11\n",
    "]\n",
    "\n",
    "s = stim.TableauSimulator()\n",
    "s.do_circuit(stim.Circuit('''\n",
    "    H 0 1 2 3 4 5 6 7 8 9 10 11\n",
    "    CZ 0 4 0 5 1 3 1 5 2 3 2 4 6 10 6 11 7 9 7 11 8 9 8 10 3 6 4 7 5 8    \n",
    "'''))\n",
    "\n",
    "for i in [1,4,7,10]:\n",
    "    s.postselect_z(i, desired_value=False)\n",
    "\n",
    "s.canonical_stabilizers()"
   ]
  },
  {
   "cell_type": "code",
   "execution_count": 59,
   "metadata": {},
   "outputs": [
    {
     "name": "stdout",
     "output_type": "stream",
     "text": [
      "140 µs ± 3.57 µs per loop (mean ± std. dev. of 7 runs, 10,000 loops each)\n"
     ]
    }
   ],
   "source": [
    "%%timeit\n",
    "\n",
    "find_stabilizers_result(num_nodes=12)"
   ]
  },
  {
   "cell_type": "code",
   "execution_count": 85,
   "metadata": {},
   "outputs": [
    {
     "name": "stdout",
     "output_type": "stream",
     "text": [
      "0\n",
      "0\n"
     ]
    }
   ],
   "source": [
    "circuit = stim.Circuit('''\n",
    "    H 0 1 2 3 \n",
    "    CZ 0 1 1 2 2 3 3 4\n",
    "''')\n",
    "s = stim.TableauSimulator()\n",
    "s.do_circuit(circuit)\n",
    "\n",
    "s.postselect_x(1, desired_value=False)\n",
    "s.postselect_x(2, desired_value=False)\n",
    "\n",
    "s.current_inverse_tableau()\n",
    "\n",
    "queries = [\n",
    "    'X___Z',\n",
    "    'Z___X'\n",
    "]\n",
    "\n",
    "for q in queries:\n",
    "    print(s.peek_observable_expectation(stim.PauliString(q)))"
   ]
  },
  {
   "cell_type": "code",
   "execution_count": null,
   "metadata": {},
   "outputs": [],
   "source": []
  }
 ],
 "metadata": {
  "kernelspec": {
   "display_name": ".venv",
   "language": "python",
   "name": "python3"
  },
  "language_info": {
   "codemirror_mode": {
    "name": "ipython",
    "version": 3
   },
   "file_extension": ".py",
   "mimetype": "text/x-python",
   "name": "python",
   "nbconvert_exporter": "python",
   "pygments_lexer": "ipython3",
   "version": "3.9.17"
  }
 },
 "nbformat": 4,
 "nbformat_minor": 2
}
