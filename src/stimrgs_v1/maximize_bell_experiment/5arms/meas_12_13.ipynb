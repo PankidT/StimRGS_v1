{
 "cells": [
  {
   "cell_type": "code",
   "execution_count": 1,
   "metadata": {},
   "outputs": [],
   "source": [
    "import stim\n",
    "from stimrgs_v1.utils import *\n",
    "from stimrgs_v1.stabilizer_operations import *"
   ]
  },
  {
   "cell_type": "code",
   "execution_count": 2,
   "metadata": {},
   "outputs": [
    {
     "name": "stdout",
     "output_type": "stream",
     "text": [
      "Max found bells 2: 2\n",
      "Max found bells 3: 2\n",
      "Max found bells 4: 2\n",
      "Max found bells 5: 0\n"
     ]
    }
   ],
   "source": [
    "# Configuration parameters\n",
    "num_trial = 5\n",
    "num_nodes = 20\n",
    "num_bell_between_row = [i+2 for i in range(num_nodes//4 -1)]\n",
    "\n",
    "stabilizers_results = []\n",
    "stabilizers_results = find_stabilizers_result(num_nodes=num_nodes)\n",
    "\n",
    "for num_bell in num_bell_between_row:\n",
    "\n",
    "    # Reset max_found_bells every time we change num_bell_between_row\n",
    "    max_found_bells = 0\n",
    "\n",
    "    for trial in range(num_trial):        \n",
    "\n",
    "        # for num_measurements in tqdm(range(5, num_nodes - 3)):\n",
    "        for num_measurements in [12,13]: \n",
    "        # num_measurements = 16                         \n",
    "            combinations = fast_generate_combinations_with_adjustable_replacement(\n",
    "                nodes=[i for i in range(num_nodes)], \n",
    "                max_length=num_measurements, # You have to change this parameter, if you want to modify number of node operation\n",
    "                max_self_combination=1\n",
    "            )                    \n",
    "\n",
    "            for c in combinations: \n",
    "                # Restart parameters before operate new measurement set\n",
    "                found: bool = False\n",
    "                bell_found_list = []\n",
    "\n",
    "                q, circuit = generate_rgs_random(num_nodes=num_nodes, num_bell_between_row=num_bell)\n",
    "                s = stim.TableauSimulator()\n",
    "                s.do_circuit(stim.Circuit(circuit))\n",
    "\n",
    "                # Operate measurement\n",
    "                for index in c:\n",
    "                    # Update s, q\n",
    "                    s, q = measure_z_with_correction(index=index, s=s, queries=q)\n",
    "\n",
    "                # Check if result match one of all possible results\n",
    "                for result in stabilizers_results:\n",
    "                    if is_subset(result, q):\n",
    "                        # print(f\"Found solution: {result}\")   \n",
    "                        bell_found_list.append(result)                     \n",
    "                        found = True                       \n",
    "                \n",
    "                # Update when found new high\n",
    "                if len(bell_found_list) >= max_found_bells:\n",
    "                    max_found_bells = len(bell_found_list)\n",
    "\n",
    "    print(f'Max found bells {num_bell}: {max_found_bells}')"
   ]
  },
  {
   "cell_type": "code",
   "execution_count": null,
   "metadata": {},
   "outputs": [],
   "source": []
  }
 ],
 "metadata": {
  "kernelspec": {
   "display_name": ".venv",
   "language": "python",
   "name": "python3"
  },
  "language_info": {
   "codemirror_mode": {
    "name": "ipython",
    "version": 3
   },
   "file_extension": ".py",
   "mimetype": "text/x-python",
   "name": "python",
   "nbconvert_exporter": "python",
   "pygments_lexer": "ipython3",
   "version": "3.9.19"
  }
 },
 "nbformat": 4,
 "nbformat_minor": 2
}
